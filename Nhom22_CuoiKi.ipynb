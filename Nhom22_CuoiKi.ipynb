{
 "cells": [
  {
   "cell_type": "markdown",
   "id": "e34408ec-a719-420f-a082-72eb4cc00253",
   "metadata": {},
   "source": [
    "# Heart Disease Prediction using Random Forest"
   ]
  },
  {
   "cell_type": "markdown",
   "id": "a6472a33-26ad-4f88-b6c9-94598c10018c",
   "metadata": {
    "tags": []
   },
   "source": [
    "## The data consist 303 individual data with 13 features and 1 label. Features are as follows \n",
    "\n",
    "\n",
    "1. age : Tuổi của từng bệnh nhân\n",
    "2. sex : Giới tính (1 = nam; 0 = nữ)\n",
    "3. cp : Chest pain type - kiểu đau ngực, gồm có 4 kiểu khác nhau theo trải nghiệm của từng bệnh nhân (0 = typical angina 1 = atypical angina 2 = non — anginal pain 3 = asymptotic)\n",
    "4. trestbps : Resting blood pressure - huyết áp khi nghỉ ngơi (đv : mmHg)\n",
    "5. chol : Serum cholestorol - cholesterol trong huyết thanh (đv : mg/dl)\n",
    "6. fbs : Fasting blood sugar - đường huyết lúc đói, so sánh giá trị đường huyết với giá trị 120mg/dl (fbs > 120 : 1 (true); fbs <= 120 : 0 (false))\n",
    "7. restecg : Resting electrocardiographic - điện tim tâm đồ, kết quả điện tâm đồ gồm 3 giá trị (0 = bình thường; 1 = có sóng ST - T bất thường; 2 = phình tâm thất trái)\n",
    "8. thalach : Maximum heart rate - nhịp tim tối đa đạt được\n",
    "9. exang : Exercise induced angina, có hay không hiện tượng đau thắt ngực khi có hoạt động tập luyện. (1 = yes; 0 = no) \n",
    "10. oldpeak : ST depression induced by exercise relative to rest - sự chênh xuống của sóng điện tâm đồ ST do tập thể dục liên quan đến nghỉ ngơi.\n",
    "11. slope : Peak exercise ST segment , độ dốc đoạn sóng ST điện tâm đồ khi tập bài tập cơ tay (1 = upsloping; 2 = flat; 3 = downsloping)\n",
    "12. ca : Số lượng các mạch chính (0-3) được tô màu bằng phương pháp soi huỳnh quang.\n",
    "13. thal: 0 = lỗi (trong tập dữ liệu gốc 0 ánh xạ đến NaN); 1 = bình thường; 2 = bệnh không thể khắc phục; 3 = bệnh có thể khắc phục được)\n",
    "14. target: Chẩn đoán bệnh tim: Hiển thị cá nhân có bị bệnh tim hay không với 3 chỉ số (0 = không; 1 = có)."
   ]
  },
  {
   "cell_type": "markdown",
   "id": "cd6f0b50-ee8a-491f-943e-6bc875124a08",
   "metadata": {
    "tags": []
   },
   "source": [
    "#### Imports"
   ]
  },
  {
   "cell_type": "code",
   "execution_count": 4,
   "id": "78013e26-4e06-43bf-b4ea-6cad5186f069",
   "metadata": {},
   "outputs": [],
   "source": [
    "import sklearn\n",
    "import pandas as pd\n",
    "import numpy as np\n",
    "import matplotlib.pyplot as plt\n",
    "import seaborn as sns\n",
    "from sklearn.model_selection import train_test_split\n",
    "from sklearn.preprocessing import StandardScaler\n",
    "from sklearn.linear_model import LogisticRegression\n",
    "from sklearn.ensemble import RandomForestClassifier\n",
    "from sklearn.metrics import confusion_matrix\n",
    "from sklearn.metrics import classification_report\n",
    "from sklearn.metrics import accuracy_score\n",
    "from sklearn.metrics import roc_auc_score,roc_curve\n",
    "import warnings\n",
    "%matplotlib inline\n",
    "warnings.filterwarnings('ignore')"
   ]
  },
  {
   "cell_type": "markdown",
   "id": "0532eec8-7f28-4efe-8fcd-4e23b7a18062",
   "metadata": {},
   "source": [
    "#### Read csv file"
   ]
  },
  {
   "cell_type": "code",
   "execution_count": 5,
   "id": "152db84c-f810-474b-98bf-3e8aeae8de27",
   "metadata": {},
   "outputs": [],
   "source": [
    "data1= pd.read_csv(\"C:/Users/maith/Desktop/KHDL/heart.csv\")"
   ]
  },
  {
   "cell_type": "code",
   "execution_count": 6,
   "id": "f3ea06df-1394-4da5-8a90-d197599bc89e",
   "metadata": {},
   "outputs": [
    {
     "name": "stdout",
     "output_type": "stream",
     "text": [
      "Head Values:\n"
     ]
    },
    {
     "data": {
      "text/html": [
       "<div>\n",
       "<style scoped>\n",
       "    .dataframe tbody tr th:only-of-type {\n",
       "        vertical-align: middle;\n",
       "    }\n",
       "\n",
       "    .dataframe tbody tr th {\n",
       "        vertical-align: top;\n",
       "    }\n",
       "\n",
       "    .dataframe thead th {\n",
       "        text-align: right;\n",
       "    }\n",
       "</style>\n",
       "<table border=\"1\" class=\"dataframe\">\n",
       "  <thead>\n",
       "    <tr style=\"text-align: right;\">\n",
       "      <th></th>\n",
       "      <th>age</th>\n",
       "      <th>sex</th>\n",
       "      <th>cp</th>\n",
       "      <th>trestbps</th>\n",
       "      <th>chol</th>\n",
       "      <th>fbs</th>\n",
       "      <th>restecg</th>\n",
       "      <th>thalach</th>\n",
       "      <th>exang</th>\n",
       "      <th>oldpeak</th>\n",
       "      <th>slope</th>\n",
       "      <th>ca</th>\n",
       "      <th>thal</th>\n",
       "      <th>target</th>\n",
       "    </tr>\n",
       "  </thead>\n",
       "  <tbody>\n",
       "    <tr>\n",
       "      <th>0</th>\n",
       "      <td>52</td>\n",
       "      <td>1</td>\n",
       "      <td>0</td>\n",
       "      <td>125</td>\n",
       "      <td>212</td>\n",
       "      <td>0</td>\n",
       "      <td>1</td>\n",
       "      <td>168</td>\n",
       "      <td>0</td>\n",
       "      <td>1.0</td>\n",
       "      <td>2</td>\n",
       "      <td>2</td>\n",
       "      <td>3</td>\n",
       "      <td>0</td>\n",
       "    </tr>\n",
       "    <tr>\n",
       "      <th>1</th>\n",
       "      <td>53</td>\n",
       "      <td>1</td>\n",
       "      <td>0</td>\n",
       "      <td>140</td>\n",
       "      <td>203</td>\n",
       "      <td>1</td>\n",
       "      <td>0</td>\n",
       "      <td>155</td>\n",
       "      <td>1</td>\n",
       "      <td>3.1</td>\n",
       "      <td>0</td>\n",
       "      <td>0</td>\n",
       "      <td>3</td>\n",
       "      <td>0</td>\n",
       "    </tr>\n",
       "    <tr>\n",
       "      <th>2</th>\n",
       "      <td>70</td>\n",
       "      <td>1</td>\n",
       "      <td>0</td>\n",
       "      <td>145</td>\n",
       "      <td>174</td>\n",
       "      <td>0</td>\n",
       "      <td>1</td>\n",
       "      <td>125</td>\n",
       "      <td>1</td>\n",
       "      <td>2.6</td>\n",
       "      <td>0</td>\n",
       "      <td>0</td>\n",
       "      <td>3</td>\n",
       "      <td>0</td>\n",
       "    </tr>\n",
       "    <tr>\n",
       "      <th>3</th>\n",
       "      <td>61</td>\n",
       "      <td>1</td>\n",
       "      <td>0</td>\n",
       "      <td>148</td>\n",
       "      <td>203</td>\n",
       "      <td>0</td>\n",
       "      <td>1</td>\n",
       "      <td>161</td>\n",
       "      <td>0</td>\n",
       "      <td>0.0</td>\n",
       "      <td>2</td>\n",
       "      <td>1</td>\n",
       "      <td>3</td>\n",
       "      <td>0</td>\n",
       "    </tr>\n",
       "    <tr>\n",
       "      <th>4</th>\n",
       "      <td>62</td>\n",
       "      <td>0</td>\n",
       "      <td>0</td>\n",
       "      <td>138</td>\n",
       "      <td>294</td>\n",
       "      <td>1</td>\n",
       "      <td>1</td>\n",
       "      <td>106</td>\n",
       "      <td>0</td>\n",
       "      <td>1.9</td>\n",
       "      <td>1</td>\n",
       "      <td>3</td>\n",
       "      <td>2</td>\n",
       "      <td>0</td>\n",
       "    </tr>\n",
       "  </tbody>\n",
       "</table>\n",
       "</div>"
      ],
      "text/plain": [
       "   age  sex  cp  trestbps  chol  fbs  restecg  thalach  exang  oldpeak  slope  \\\n",
       "0   52    1   0       125   212    0        1      168      0      1.0      2   \n",
       "1   53    1   0       140   203    1        0      155      1      3.1      0   \n",
       "2   70    1   0       145   174    0        1      125      1      2.6      0   \n",
       "3   61    1   0       148   203    0        1      161      0      0.0      2   \n",
       "4   62    0   0       138   294    1        1      106      0      1.9      1   \n",
       "\n",
       "   ca  thal  target  \n",
       "0   2     3       0  \n",
       "1   0     3       0  \n",
       "2   0     3       0  \n",
       "3   1     3       0  \n",
       "4   3     2       0  "
      ]
     },
     "execution_count": 6,
     "metadata": {},
     "output_type": "execute_result"
    }
   ],
   "source": [
    "print(\"Head Values:\")\n",
    "data1.head()"
   ]
  },
  {
   "cell_type": "code",
   "execution_count": 7,
   "id": "95df64c6-7569-4331-9406-b644e5eaa7a9",
   "metadata": {},
   "outputs": [
    {
     "name": "stdout",
     "output_type": "stream",
     "text": [
      "Tail Values:\n"
     ]
    },
    {
     "data": {
      "text/html": [
       "<div>\n",
       "<style scoped>\n",
       "    .dataframe tbody tr th:only-of-type {\n",
       "        vertical-align: middle;\n",
       "    }\n",
       "\n",
       "    .dataframe tbody tr th {\n",
       "        vertical-align: top;\n",
       "    }\n",
       "\n",
       "    .dataframe thead th {\n",
       "        text-align: right;\n",
       "    }\n",
       "</style>\n",
       "<table border=\"1\" class=\"dataframe\">\n",
       "  <thead>\n",
       "    <tr style=\"text-align: right;\">\n",
       "      <th></th>\n",
       "      <th>age</th>\n",
       "      <th>sex</th>\n",
       "      <th>cp</th>\n",
       "      <th>trestbps</th>\n",
       "      <th>chol</th>\n",
       "      <th>fbs</th>\n",
       "      <th>restecg</th>\n",
       "      <th>thalach</th>\n",
       "      <th>exang</th>\n",
       "      <th>oldpeak</th>\n",
       "      <th>slope</th>\n",
       "      <th>ca</th>\n",
       "      <th>thal</th>\n",
       "      <th>target</th>\n",
       "    </tr>\n",
       "  </thead>\n",
       "  <tbody>\n",
       "    <tr>\n",
       "      <th>1020</th>\n",
       "      <td>59</td>\n",
       "      <td>1</td>\n",
       "      <td>1</td>\n",
       "      <td>140</td>\n",
       "      <td>221</td>\n",
       "      <td>0</td>\n",
       "      <td>1</td>\n",
       "      <td>164</td>\n",
       "      <td>1</td>\n",
       "      <td>0.0</td>\n",
       "      <td>2</td>\n",
       "      <td>0</td>\n",
       "      <td>2</td>\n",
       "      <td>1</td>\n",
       "    </tr>\n",
       "    <tr>\n",
       "      <th>1021</th>\n",
       "      <td>60</td>\n",
       "      <td>1</td>\n",
       "      <td>0</td>\n",
       "      <td>125</td>\n",
       "      <td>258</td>\n",
       "      <td>0</td>\n",
       "      <td>0</td>\n",
       "      <td>141</td>\n",
       "      <td>1</td>\n",
       "      <td>2.8</td>\n",
       "      <td>1</td>\n",
       "      <td>1</td>\n",
       "      <td>3</td>\n",
       "      <td>0</td>\n",
       "    </tr>\n",
       "    <tr>\n",
       "      <th>1022</th>\n",
       "      <td>47</td>\n",
       "      <td>1</td>\n",
       "      <td>0</td>\n",
       "      <td>110</td>\n",
       "      <td>275</td>\n",
       "      <td>0</td>\n",
       "      <td>0</td>\n",
       "      <td>118</td>\n",
       "      <td>1</td>\n",
       "      <td>1.0</td>\n",
       "      <td>1</td>\n",
       "      <td>1</td>\n",
       "      <td>2</td>\n",
       "      <td>0</td>\n",
       "    </tr>\n",
       "    <tr>\n",
       "      <th>1023</th>\n",
       "      <td>50</td>\n",
       "      <td>0</td>\n",
       "      <td>0</td>\n",
       "      <td>110</td>\n",
       "      <td>254</td>\n",
       "      <td>0</td>\n",
       "      <td>0</td>\n",
       "      <td>159</td>\n",
       "      <td>0</td>\n",
       "      <td>0.0</td>\n",
       "      <td>2</td>\n",
       "      <td>0</td>\n",
       "      <td>2</td>\n",
       "      <td>1</td>\n",
       "    </tr>\n",
       "    <tr>\n",
       "      <th>1024</th>\n",
       "      <td>54</td>\n",
       "      <td>1</td>\n",
       "      <td>0</td>\n",
       "      <td>120</td>\n",
       "      <td>188</td>\n",
       "      <td>0</td>\n",
       "      <td>1</td>\n",
       "      <td>113</td>\n",
       "      <td>0</td>\n",
       "      <td>1.4</td>\n",
       "      <td>1</td>\n",
       "      <td>1</td>\n",
       "      <td>3</td>\n",
       "      <td>0</td>\n",
       "    </tr>\n",
       "  </tbody>\n",
       "</table>\n",
       "</div>"
      ],
      "text/plain": [
       "      age  sex  cp  trestbps  chol  fbs  restecg  thalach  exang  oldpeak  \\\n",
       "1020   59    1   1       140   221    0        1      164      1      0.0   \n",
       "1021   60    1   0       125   258    0        0      141      1      2.8   \n",
       "1022   47    1   0       110   275    0        0      118      1      1.0   \n",
       "1023   50    0   0       110   254    0        0      159      0      0.0   \n",
       "1024   54    1   0       120   188    0        1      113      0      1.4   \n",
       "\n",
       "      slope  ca  thal  target  \n",
       "1020      2   0     2       1  \n",
       "1021      1   1     3       0  \n",
       "1022      1   1     2       0  \n",
       "1023      2   0     2       1  \n",
       "1024      1   1     3       0  "
      ]
     },
     "execution_count": 7,
     "metadata": {},
     "output_type": "execute_result"
    }
   ],
   "source": [
    "print(\"Tail Values:\")\n",
    "data1.tail()"
   ]
  },
  {
   "cell_type": "markdown",
   "id": "1eecaacd-f424-4559-b888-b47f901b49c1",
   "metadata": {},
   "source": [
    "#### Print information of the data"
   ]
  },
  {
   "cell_type": "code",
   "execution_count": 8,
   "id": "d5c43246-3b08-41c5-a4b0-e4ace354daad",
   "metadata": {},
   "outputs": [
    {
     "name": "stdout",
     "output_type": "stream",
     "text": [
      "<class 'pandas.core.frame.DataFrame'>\n",
      "RangeIndex: 1025 entries, 0 to 1024\n",
      "Data columns (total 14 columns):\n",
      " #   Column    Non-Null Count  Dtype  \n",
      "---  ------    --------------  -----  \n",
      " 0   age       1025 non-null   int64  \n",
      " 1   sex       1025 non-null   int64  \n",
      " 2   cp        1025 non-null   int64  \n",
      " 3   trestbps  1025 non-null   int64  \n",
      " 4   chol      1025 non-null   int64  \n",
      " 5   fbs       1025 non-null   int64  \n",
      " 6   restecg   1025 non-null   int64  \n",
      " 7   thalach   1025 non-null   int64  \n",
      " 8   exang     1025 non-null   int64  \n",
      " 9   oldpeak   1025 non-null   float64\n",
      " 10  slope     1025 non-null   int64  \n",
      " 11  ca        1025 non-null   int64  \n",
      " 12  thal      1025 non-null   int64  \n",
      " 13  target    1025 non-null   int64  \n",
      "dtypes: float64(1), int64(13)\n",
      "memory usage: 112.2 KB\n"
     ]
    }
   ],
   "source": [
    "data1.info()"
   ]
  },
  {
   "cell_type": "markdown",
   "id": "e3c61dc9-1560-41da-bf2a-f08a1e781901",
   "metadata": {},
   "source": [
    "##### The above table shows that there are no null values in the dataset, so nulls do not have to be removed/infilled."
   ]
  },
  {
   "cell_type": "markdown",
   "id": "da827ae3-e789-4120-8577-7ccbb4fa08a1",
   "metadata": {},
   "source": [
    "#### Check and drop duplicates"
   ]
  },
  {
   "cell_type": "code",
   "execution_count": 9,
   "id": "1c52db90-908b-4912-91c7-e36bd4045596",
   "metadata": {},
   "outputs": [
    {
     "data": {
      "text/plain": [
       "True"
      ]
     },
     "execution_count": 9,
     "metadata": {},
     "output_type": "execute_result"
    }
   ],
   "source": [
    "data1.duplicated().any()"
   ]
  },
  {
   "cell_type": "code",
   "execution_count": 10,
   "id": "5edf2023-1c39-4d31-9a42-1cff87f6c44f",
   "metadata": {},
   "outputs": [],
   "source": [
    "data2 = data1.drop_duplicates(keep='first')"
   ]
  },
  {
   "cell_type": "markdown",
   "id": "b83ebd05-8c54-4774-881f-a05ad6d1cbd3",
   "metadata": {},
   "source": [
    "#### Compare after drop duplicates"
   ]
  },
  {
   "cell_type": "code",
   "execution_count": 11,
   "id": "20001fb6-97fd-46b3-aaab-c9e69482da2d",
   "metadata": {},
   "outputs": [
    {
     "data": {
      "text/plain": [
       "((1025, 14), (302, 14))"
      ]
     },
     "execution_count": 11,
     "metadata": {},
     "output_type": "execute_result"
    }
   ],
   "source": [
    "data1.shape, data2.shape"
   ]
  },
  {
   "cell_type": "markdown",
   "id": "3c408793-6115-4d8c-8490-c6b1e9cc2d09",
   "metadata": {},
   "source": [
    "#### Print data characteristics, usings pandas built-in describe()"
   ]
  },
  {
   "cell_type": "code",
   "execution_count": 12,
   "id": "f93318d9-a18e-49d7-bed1-e59baa22d720",
   "metadata": {},
   "outputs": [
    {
     "data": {
      "text/html": [
       "<div>\n",
       "<style scoped>\n",
       "    .dataframe tbody tr th:only-of-type {\n",
       "        vertical-align: middle;\n",
       "    }\n",
       "\n",
       "    .dataframe tbody tr th {\n",
       "        vertical-align: top;\n",
       "    }\n",
       "\n",
       "    .dataframe thead th {\n",
       "        text-align: right;\n",
       "    }\n",
       "</style>\n",
       "<table border=\"1\" class=\"dataframe\">\n",
       "  <thead>\n",
       "    <tr style=\"text-align: right;\">\n",
       "      <th></th>\n",
       "      <th>age</th>\n",
       "      <th>sex</th>\n",
       "      <th>cp</th>\n",
       "      <th>trestbps</th>\n",
       "      <th>chol</th>\n",
       "      <th>fbs</th>\n",
       "      <th>restecg</th>\n",
       "      <th>thalach</th>\n",
       "      <th>exang</th>\n",
       "      <th>oldpeak</th>\n",
       "      <th>slope</th>\n",
       "      <th>ca</th>\n",
       "      <th>thal</th>\n",
       "      <th>target</th>\n",
       "    </tr>\n",
       "  </thead>\n",
       "  <tbody>\n",
       "    <tr>\n",
       "      <th>count</th>\n",
       "      <td>302.00000</td>\n",
       "      <td>302.000000</td>\n",
       "      <td>302.000000</td>\n",
       "      <td>302.000000</td>\n",
       "      <td>302.000000</td>\n",
       "      <td>302.000000</td>\n",
       "      <td>302.000000</td>\n",
       "      <td>302.000000</td>\n",
       "      <td>302.000000</td>\n",
       "      <td>302.000000</td>\n",
       "      <td>302.000000</td>\n",
       "      <td>302.000000</td>\n",
       "      <td>302.000000</td>\n",
       "      <td>302.000000</td>\n",
       "    </tr>\n",
       "    <tr>\n",
       "      <th>mean</th>\n",
       "      <td>54.42053</td>\n",
       "      <td>0.682119</td>\n",
       "      <td>0.963576</td>\n",
       "      <td>131.602649</td>\n",
       "      <td>246.500000</td>\n",
       "      <td>0.149007</td>\n",
       "      <td>0.526490</td>\n",
       "      <td>149.569536</td>\n",
       "      <td>0.327815</td>\n",
       "      <td>1.043046</td>\n",
       "      <td>1.397351</td>\n",
       "      <td>0.718543</td>\n",
       "      <td>2.314570</td>\n",
       "      <td>0.543046</td>\n",
       "    </tr>\n",
       "    <tr>\n",
       "      <th>std</th>\n",
       "      <td>9.04797</td>\n",
       "      <td>0.466426</td>\n",
       "      <td>1.032044</td>\n",
       "      <td>17.563394</td>\n",
       "      <td>51.753489</td>\n",
       "      <td>0.356686</td>\n",
       "      <td>0.526027</td>\n",
       "      <td>22.903527</td>\n",
       "      <td>0.470196</td>\n",
       "      <td>1.161452</td>\n",
       "      <td>0.616274</td>\n",
       "      <td>1.006748</td>\n",
       "      <td>0.613026</td>\n",
       "      <td>0.498970</td>\n",
       "    </tr>\n",
       "    <tr>\n",
       "      <th>min</th>\n",
       "      <td>29.00000</td>\n",
       "      <td>0.000000</td>\n",
       "      <td>0.000000</td>\n",
       "      <td>94.000000</td>\n",
       "      <td>126.000000</td>\n",
       "      <td>0.000000</td>\n",
       "      <td>0.000000</td>\n",
       "      <td>71.000000</td>\n",
       "      <td>0.000000</td>\n",
       "      <td>0.000000</td>\n",
       "      <td>0.000000</td>\n",
       "      <td>0.000000</td>\n",
       "      <td>0.000000</td>\n",
       "      <td>0.000000</td>\n",
       "    </tr>\n",
       "    <tr>\n",
       "      <th>25%</th>\n",
       "      <td>48.00000</td>\n",
       "      <td>0.000000</td>\n",
       "      <td>0.000000</td>\n",
       "      <td>120.000000</td>\n",
       "      <td>211.000000</td>\n",
       "      <td>0.000000</td>\n",
       "      <td>0.000000</td>\n",
       "      <td>133.250000</td>\n",
       "      <td>0.000000</td>\n",
       "      <td>0.000000</td>\n",
       "      <td>1.000000</td>\n",
       "      <td>0.000000</td>\n",
       "      <td>2.000000</td>\n",
       "      <td>0.000000</td>\n",
       "    </tr>\n",
       "    <tr>\n",
       "      <th>50%</th>\n",
       "      <td>55.50000</td>\n",
       "      <td>1.000000</td>\n",
       "      <td>1.000000</td>\n",
       "      <td>130.000000</td>\n",
       "      <td>240.500000</td>\n",
       "      <td>0.000000</td>\n",
       "      <td>1.000000</td>\n",
       "      <td>152.500000</td>\n",
       "      <td>0.000000</td>\n",
       "      <td>0.800000</td>\n",
       "      <td>1.000000</td>\n",
       "      <td>0.000000</td>\n",
       "      <td>2.000000</td>\n",
       "      <td>1.000000</td>\n",
       "    </tr>\n",
       "    <tr>\n",
       "      <th>75%</th>\n",
       "      <td>61.00000</td>\n",
       "      <td>1.000000</td>\n",
       "      <td>2.000000</td>\n",
       "      <td>140.000000</td>\n",
       "      <td>274.750000</td>\n",
       "      <td>0.000000</td>\n",
       "      <td>1.000000</td>\n",
       "      <td>166.000000</td>\n",
       "      <td>1.000000</td>\n",
       "      <td>1.600000</td>\n",
       "      <td>2.000000</td>\n",
       "      <td>1.000000</td>\n",
       "      <td>3.000000</td>\n",
       "      <td>1.000000</td>\n",
       "    </tr>\n",
       "    <tr>\n",
       "      <th>max</th>\n",
       "      <td>77.00000</td>\n",
       "      <td>1.000000</td>\n",
       "      <td>3.000000</td>\n",
       "      <td>200.000000</td>\n",
       "      <td>564.000000</td>\n",
       "      <td>1.000000</td>\n",
       "      <td>2.000000</td>\n",
       "      <td>202.000000</td>\n",
       "      <td>1.000000</td>\n",
       "      <td>6.200000</td>\n",
       "      <td>2.000000</td>\n",
       "      <td>4.000000</td>\n",
       "      <td>3.000000</td>\n",
       "      <td>1.000000</td>\n",
       "    </tr>\n",
       "  </tbody>\n",
       "</table>\n",
       "</div>"
      ],
      "text/plain": [
       "             age         sex          cp    trestbps        chol         fbs  \\\n",
       "count  302.00000  302.000000  302.000000  302.000000  302.000000  302.000000   \n",
       "mean    54.42053    0.682119    0.963576  131.602649  246.500000    0.149007   \n",
       "std      9.04797    0.466426    1.032044   17.563394   51.753489    0.356686   \n",
       "min     29.00000    0.000000    0.000000   94.000000  126.000000    0.000000   \n",
       "25%     48.00000    0.000000    0.000000  120.000000  211.000000    0.000000   \n",
       "50%     55.50000    1.000000    1.000000  130.000000  240.500000    0.000000   \n",
       "75%     61.00000    1.000000    2.000000  140.000000  274.750000    0.000000   \n",
       "max     77.00000    1.000000    3.000000  200.000000  564.000000    1.000000   \n",
       "\n",
       "          restecg     thalach       exang     oldpeak       slope          ca  \\\n",
       "count  302.000000  302.000000  302.000000  302.000000  302.000000  302.000000   \n",
       "mean     0.526490  149.569536    0.327815    1.043046    1.397351    0.718543   \n",
       "std      0.526027   22.903527    0.470196    1.161452    0.616274    1.006748   \n",
       "min      0.000000   71.000000    0.000000    0.000000    0.000000    0.000000   \n",
       "25%      0.000000  133.250000    0.000000    0.000000    1.000000    0.000000   \n",
       "50%      1.000000  152.500000    0.000000    0.800000    1.000000    0.000000   \n",
       "75%      1.000000  166.000000    1.000000    1.600000    2.000000    1.000000   \n",
       "max      2.000000  202.000000    1.000000    6.200000    2.000000    4.000000   \n",
       "\n",
       "             thal      target  \n",
       "count  302.000000  302.000000  \n",
       "mean     2.314570    0.543046  \n",
       "std      0.613026    0.498970  \n",
       "min      0.000000    0.000000  \n",
       "25%      2.000000    0.000000  \n",
       "50%      2.000000    1.000000  \n",
       "75%      3.000000    1.000000  \n",
       "max      3.000000    1.000000  "
      ]
     },
     "execution_count": 12,
     "metadata": {},
     "output_type": "execute_result"
    }
   ],
   "source": [
    "data2.describe()"
   ]
  },
  {
   "cell_type": "markdown",
   "id": "8fcae9b0-0320-4dce-a074-1bfd43d7da81",
   "metadata": {},
   "source": [
    "#### Get an overview distribution of each column"
   ]
  },
  {
   "cell_type": "code",
   "execution_count": 13,
   "id": "076059d0-0b57-412e-9612-645c5bee2c4f",
   "metadata": {},
   "outputs": [
    {
     "data": {
      "image/png": "[encoded data removed]",
      "text/plain": [
       "<Figure size 1440x1440 with 16 Axes>"
      ]
     },
     "metadata": {
      "needs_background": "light"
     },
     "output_type": "display_data"
    }
   ],
   "source": [
    "data2.hist(figsize=(20, 20))\n",
    "plt.show()"
   ]
  },
  {
   "cell_type": "markdown",
   "id": "3ac3a245-f804-4c75-9e71-684115218dcf",
   "metadata": {},
   "source": [
    "#### Make a correlation matrix"
   ]
  },
  {
   "cell_type": "markdown",
   "id": "0b768feb-94c6-4e42-b04c-e690bc1b4521",
   "metadata": {},
   "source": [
    "##### I want to search for correlations between variables and especially with the target variable. To do so I will use a heatmap and correlation matrix."
   ]
  },
  {
   "cell_type": "code",
   "execution_count": 14,
   "id": "91fbd76c-7397-4f29-a1e5-5ba5e2d23aa8",
   "metadata": {},
   "outputs": [
    {
     "data": {
      "text/plain": [
       "<AxesSubplot:>"
      ]
     },
     "execution_count": 14,
     "metadata": {},
     "output_type": "execute_result"
    },
    {
     "data": {
      "image/png": "[encoded data removed]",
      "text/plain": [
       "<Figure size 1080x576 with 2 Axes>"
      ]
     },
     "metadata": {
      "needs_background": "light"
     },
     "output_type": "display_data"
    }
   ],
   "source": [
    "plt.figure(figsize=(15,8))\n",
    "sns.heatmap(data2.corr(), annot=True,cmap='coolwarm')"
   ]
  },
  {
   "cell_type": "markdown",
   "id": "2291e324-6c22-41fa-9bfb-6ee66974ee87",
   "metadata": {},
   "source": [
    "##### In the correlation matrix, I see that there may be correlations bewteen the target variable and the sex, cp, thalach, oldpeak, exang, slope, ca and thal variables."
   ]
  },
  {
   "cell_type": "markdown",
   "id": "f112d2e4-7360-417c-966f-a9558afce0ca",
   "metadata": {},
   "source": [
    "### Exploratory Data Analysis"
   ]
  },
  {
   "cell_type": "markdown",
   "id": "b559790b-fd4d-45e1-a7bd-d4880393dec5",
   "metadata": {},
   "source": [
    "#### Analysing the target variable:"
   ]
  },
  {
   "cell_type": "code",
   "execution_count": 15,
   "id": "c4da0345-7d15-464b-8109-7b7ea50b6ed9",
   "metadata": {},
   "outputs": [
    {
     "name": "stdout",
     "output_type": "stream",
     "text": [
      "1    164\n",
      "0    138\n",
      "Name: target, dtype: int64\n"
     ]
    }
   ],
   "source": [
    "y = data2[\"target\"]\n",
    "target_temp = data2['target'].value_counts()\n",
    "print(target_temp)"
   ]
  },
  {
   "cell_type": "code",
   "execution_count": 16,
   "id": "039cf416-c266-4814-b556-ec252e9886cf",
   "metadata": {},
   "outputs": [
    {
     "data": {
      "text/plain": [
       "<AxesSubplot:xlabel='target', ylabel='count'>"
      ]
     },
     "execution_count": 16,
     "metadata": {},
     "output_type": "execute_result"
    },
    {
     "data": {
      "image/png": "[encoded data removed]",
      "text/plain": [
       "<Figure size 432x288 with 1 Axes>"
      ]
     },
     "metadata": {
      "needs_background": "light"
     },
     "output_type": "display_data"
    }
   ],
   "source": [
    "sns.countplot(y)"
   ]
  },
  {
   "cell_type": "code",
   "execution_count": 17,
   "id": "0ba82f6e-d0b4-4771-80af-f5867fdd0dde",
   "metadata": {},
   "outputs": [
    {
     "name": "stdout",
     "output_type": "stream",
     "text": [
      "Percentage of patience without heart problems: 45.54\n",
      "Percentage of patience with heart problems: 54.13\n"
     ]
    }
   ],
   "source": [
    "print(\"Percentage of patience without heart problems: \"+str(round(target_temp[0]*100/303,2)))\n",
    "print(\"Percentage of patience with heart problems: \"+str(round(target_temp[1]*100/303,2)))\n",
    "\n",
    "#Alternatively,\n",
    "# print(\"Percentage of patience with heart problems: \"+str(y.where(y==1).count()*100/303))\n",
    "# print(\"Percentage of patience with heart problems: \"+str(y.where(y==0).count()*100/303))\n",
    "\n",
    "# #Or,\n",
    "# countNoDisease = len(df[df.target == 0])\n",
    "# countHaveDisease = len(df[df.target == 1])"
   ]
  },
  {
   "cell_type": "markdown",
   "id": "3b92a5d0-910a-45d9-9b21-0ae25b4a49d6",
   "metadata": {},
   "source": [
    "#### We'll analyse 'sex', 'cp', 'fbs','restecg', 'exang', 'slope', 'ca' and 'thal' features"
   ]
  },
  {
   "cell_type": "markdown",
   "id": "2d57d7af-bdac-4d7a-ae98-0d8fa10f07f4",
   "metadata": {},
   "source": [
    "#### Analysing the 'Sex' feature"
   ]
  },
  {
   "cell_type": "code",
   "execution_count": 18,
   "id": "8ad666ee-4461-49aa-97a7-10ccd96db9b1",
   "metadata": {},
   "outputs": [
    {
     "data": {
      "text/plain": [
       "array([1, 0], dtype=int64)"
      ]
     },
     "execution_count": 18,
     "metadata": {},
     "output_type": "execute_result"
    }
   ],
   "source": [
    "data2[\"sex\"].unique()"
   ]
  },
  {
   "cell_type": "markdown",
   "id": "8a268425-f03f-456c-818e-bacdfbcf73b3",
   "metadata": {},
   "source": [
    "##### We notice, that as expected, the 'sex' feature has 2 unique features"
   ]
  },
  {
   "cell_type": "code",
   "execution_count": 19,
   "id": "d71d2231-6306-4aae-ae14-db7ce6b2a49d",
   "metadata": {},
   "outputs": [
    {
     "data": {
      "text/plain": [
       "<AxesSubplot:xlabel='sex', ylabel='target'>"
      ]
     },
     "execution_count": 19,
     "metadata": {},
     "output_type": "execute_result"
    },
    {
     "data": {
      "image/png": "[encoded data removed]",
      "text/plain": [
       "<Figure size 432x288 with 1 Axes>"
      ]
     },
     "metadata": {
      "needs_background": "light"
     },
     "output_type": "display_data"
    }
   ],
   "source": [
    "sns.barplot(data2[\"sex\"],y)"
   ]
  },
  {
   "cell_type": "markdown",
   "id": "3ec48b05-1a0d-4399-b005-204943fad793",
   "metadata": {},
   "source": [
    "#### Analysing the 'Chest Pain Type' feature"
   ]
  },
  {
   "cell_type": "code",
   "execution_count": 20,
   "id": "c35a2d43-ca20-4475-ae37-c8b1c1c6eab2",
   "metadata": {},
   "outputs": [
    {
     "data": {
      "text/plain": [
       "array([0, 1, 2, 3], dtype=int64)"
      ]
     },
     "execution_count": 20,
     "metadata": {},
     "output_type": "execute_result"
    }
   ],
   "source": [
    "data2[\"cp\"].unique()"
   ]
  },
  {
   "cell_type": "markdown",
   "id": "a5fb8a6f-1c65-44ed-b9b6-38292cdd83dd",
   "metadata": {},
   "source": [
    "##### As expected, the CP feature has values from 0 to 3"
   ]
  },
  {
   "cell_type": "code",
   "execution_count": 21,
   "id": "17fdfd56-bbcf-4b4d-994f-6b5b37dfd9f7",
   "metadata": {},
   "outputs": [
    {
     "data": {
      "text/plain": [
       "<AxesSubplot:xlabel='cp', ylabel='target'>"
      ]
     },
     "execution_count": 21,
     "metadata": {},
     "output_type": "execute_result"
    },
    {
     "data": {
      "image/png": "[encoded data removed]",
      "text/plain": [
       "<Figure size 432x288 with 1 Axes>"
      ]
     },
     "metadata": {
      "needs_background": "light"
     },
     "output_type": "display_data"
    }
   ],
   "source": [
    "sns.barplot(data2[\"cp\"],y)"
   ]
  },
  {
   "cell_type": "markdown",
   "id": "8eba9542-39e8-425d-b55e-a8b72405007f",
   "metadata": {},
   "source": [
    "##### We notice, that chest pain of '0', i.e. the ones with typical angina are much less likely to have heart problems"
   ]
  },
  {
   "cell_type": "markdown",
   "id": "bccc23a2-2243-4591-9698-f67ee7529df9",
   "metadata": {},
   "source": [
    "#### Analysing the FBS feature"
   ]
  },
  {
   "cell_type": "code",
   "execution_count": 22,
   "id": "2f94ca9f-0f96-4253-a7d0-96e93dc13590",
   "metadata": {},
   "outputs": [
    {
     "data": {
      "text/plain": [
       "count    302.000000\n",
       "mean       0.149007\n",
       "std        0.356686\n",
       "min        0.000000\n",
       "25%        0.000000\n",
       "50%        0.000000\n",
       "75%        0.000000\n",
       "max        1.000000\n",
       "Name: fbs, dtype: float64"
      ]
     },
     "execution_count": 22,
     "metadata": {},
     "output_type": "execute_result"
    }
   ],
   "source": [
    "data2[\"fbs\"].describe()"
   ]
  },
  {
   "cell_type": "code",
   "execution_count": 23,
   "id": "e9a38f7c-0556-481e-8e59-be71fc8ac994",
   "metadata": {},
   "outputs": [
    {
     "data": {
      "text/plain": [
       "array([0, 1], dtype=int64)"
      ]
     },
     "execution_count": 23,
     "metadata": {},
     "output_type": "execute_result"
    }
   ],
   "source": [
    "data2[\"fbs\"].unique()"
   ]
  },
  {
   "cell_type": "code",
   "execution_count": 24,
   "id": "6391fb0f-f08a-401b-a899-f02a0501ed33",
   "metadata": {},
   "outputs": [
    {
     "data": {
      "text/plain": [
       "<AxesSubplot:xlabel='fbs', ylabel='target'>"
      ]
     },
     "execution_count": 24,
     "metadata": {},
     "output_type": "execute_result"
    },
    {
     "data": {
      "image/png": "[encoded data removed]",
      "text/plain": [
       "<Figure size 432x288 with 1 Axes>"
      ]
     },
     "metadata": {
      "needs_background": "light"
     },
     "output_type": "display_data"
    }
   ],
   "source": [
    "sns.barplot(data2[\"fbs\"],y)"
   ]
  },
  {
   "cell_type": "markdown",
   "id": "4329fc78-10ab-4ebb-8b3d-c10953d38b76",
   "metadata": {},
   "source": [
    "##### Nothing extraordinary here"
   ]
  },
  {
   "cell_type": "markdown",
   "id": "53ddf440-8045-4fc3-8609-a41b2747a3ff",
   "metadata": {},
   "source": [
    "#### Analysing the restecg feature"
   ]
  },
  {
   "cell_type": "code",
   "execution_count": 25,
   "id": "f1edd147-82a1-448d-b964-ef6dff8c066f",
   "metadata": {},
   "outputs": [
    {
     "data": {
      "text/plain": [
       "array([1, 0, 2], dtype=int64)"
      ]
     },
     "execution_count": 25,
     "metadata": {},
     "output_type": "execute_result"
    }
   ],
   "source": [
    "data2[\"restecg\"].unique()"
   ]
  },
  {
   "cell_type": "code",
   "execution_count": 26,
   "id": "42706a28-ae3a-47a1-99f9-1580cb08eebc",
   "metadata": {},
   "outputs": [
    {
     "data": {
      "text/plain": [
       "<AxesSubplot:xlabel='restecg', ylabel='target'>"
      ]
     },
     "execution_count": 26,
     "metadata": {},
     "output_type": "execute_result"
    },
    {
     "data": {
      "image/png": "[encoded data removed]",
      "text/plain": [
       "<Figure size 432x288 with 1 Axes>"
      ]
     },
     "metadata": {
      "needs_background": "light"
     },
     "output_type": "display_data"
    }
   ],
   "source": [
    "sns.barplot(data2[\"restecg\"],y)"
   ]
  },
  {
   "cell_type": "markdown",
   "id": "f6e789ff-058f-476a-a19c-e6596df6965c",
   "metadata": {},
   "source": [
    "##### We realize that people with restecg '1' and '0' are much more likely to have a heart disease than with restecg '2'"
   ]
  },
  {
   "cell_type": "markdown",
   "id": "ad808326-f6c8-4747-9758-c50e25990513",
   "metadata": {},
   "source": [
    "#### Analysing the 'exang' feature"
   ]
  },
  {
   "cell_type": "code",
   "execution_count": 27,
   "id": "5738498c-3bb2-455c-83ae-1e61698b1dc4",
   "metadata": {},
   "outputs": [
    {
     "data": {
      "text/plain": [
       "array([0, 1], dtype=int64)"
      ]
     },
     "execution_count": 27,
     "metadata": {},
     "output_type": "execute_result"
    }
   ],
   "source": [
    "data2[\"exang\"].unique()"
   ]
  },
  {
   "cell_type": "code",
   "execution_count": 28,
   "id": "f1162e04-a2aa-4227-bfde-7434e551ec69",
   "metadata": {},
   "outputs": [
    {
     "data": {
      "text/plain": [
       "<AxesSubplot:xlabel='exang', ylabel='target'>"
      ]
     },
     "execution_count": 28,
     "metadata": {},
     "output_type": "execute_result"
    },
    {
     "data": {
      "image/png": "[encoded data removed]",
      "text/plain": [
       "<Figure size 432x288 with 1 Axes>"
      ]
     },
     "metadata": {
      "needs_background": "light"
     },
     "output_type": "display_data"
    }
   ],
   "source": [
    "sns.barplot(data2[\"exang\"],y)"
   ]
  },
  {
   "cell_type": "markdown",
   "id": "7c50be1d-4d52-4d5d-abad-00f96fee6f75",
   "metadata": {},
   "source": [
    "#### Analysing the Slope feature"
   ]
  },
  {
   "cell_type": "code",
   "execution_count": 29,
   "id": "e1e7ccf8-b7a9-4de0-9183-447c7d069b87",
   "metadata": {},
   "outputs": [
    {
     "data": {
      "text/plain": [
       "array([2, 0, 1], dtype=int64)"
      ]
     },
     "execution_count": 29,
     "metadata": {},
     "output_type": "execute_result"
    }
   ],
   "source": [
    "data2[\"slope\"].unique()"
   ]
  },
  {
   "cell_type": "code",
   "execution_count": 30,
   "id": "81f11095-fd23-42a0-abd0-c99a79c838a5",
   "metadata": {},
   "outputs": [
    {
     "data": {
      "text/plain": [
       "<AxesSubplot:xlabel='slope', ylabel='target'>"
      ]
     },
     "execution_count": 30,
     "metadata": {},
     "output_type": "execute_result"
    },
    {
     "data": {
      "image/png": "[encoded data removed]",
      "text/plain": [
       "<Figure size 432x288 with 1 Axes>"
      ]
     },
     "metadata": {
      "needs_background": "light"
     },
     "output_type": "display_data"
    }
   ],
   "source": [
    "sns.barplot(data2[\"slope\"],y)"
   ]
  },
  {
   "cell_type": "markdown",
   "id": "10e54fb4-1d43-4e0f-acda-4268b0d31a9e",
   "metadata": {},
   "source": [
    "##### We observe, that Slope '2' causes heart pain much more than Slope '0' and '1'"
   ]
  },
  {
   "cell_type": "markdown",
   "id": "e7d6bf55-96af-4e1d-9cc5-8406a8380682",
   "metadata": {},
   "source": [
    "#### Analysing the 'ca' feature"
   ]
  },
  {
   "cell_type": "code",
   "execution_count": 31,
   "id": "29a1cb27-0861-4d93-a547-d0f3bbeb44e6",
   "metadata": {},
   "outputs": [
    {
     "data": {
      "text/plain": [
       "array([2, 0, 1, 3, 4], dtype=int64)"
      ]
     },
     "execution_count": 31,
     "metadata": {},
     "output_type": "execute_result"
    }
   ],
   "source": [
    "data2[\"ca\"].unique()"
   ]
  },
  {
   "cell_type": "code",
   "execution_count": 32,
   "id": "4cfaddf9-79cc-4cdf-9d10-9d443e4f5696",
   "metadata": {},
   "outputs": [
    {
     "data": {
      "text/plain": [
       "<AxesSubplot:xlabel='ca', ylabel='target'>"
      ]
     },
     "execution_count": 32,
     "metadata": {},
     "output_type": "execute_result"
    },
    {
     "data": {
      "image/png": "[encoded data removed]",
      "text/plain": [
       "<Figure size 432x288 with 1 Axes>"
      ]
     },
     "metadata": {
      "needs_background": "light"
     },
     "output_type": "display_data"
    }
   ],
   "source": [
    "sns.barplot(data2[\"ca\"],y)"
   ]
  },
  {
   "cell_type": "markdown",
   "id": "cffe896f-d751-4fcf-9fd9-a0f16a40e624",
   "metadata": {},
   "source": [
    "##### ca=4 has astonishingly large number of heart patients"
   ]
  },
  {
   "cell_type": "markdown",
   "id": "8f3ff478-bf3c-4ddc-b972-db34f1c645ed",
   "metadata": {},
   "source": [
    "#### Analysing the 'thal' feature"
   ]
  },
  {
   "cell_type": "code",
   "execution_count": 33,
   "id": "51cd61d3-bd11-45b5-b9f1-324895c9f6dc",
   "metadata": {},
   "outputs": [
    {
     "data": {
      "text/plain": [
       "array([3, 2, 1, 0], dtype=int64)"
      ]
     },
     "execution_count": 33,
     "metadata": {},
     "output_type": "execute_result"
    }
   ],
   "source": [
    "data2[\"thal\"].unique()"
   ]
  },
  {
   "cell_type": "code",
   "execution_count": 34,
   "id": "de859123-605d-483a-a5d6-fda8d8c9bc17",
   "metadata": {},
   "outputs": [
    {
     "data": {
      "text/plain": [
       "<AxesSubplot:xlabel='thal', ylabel='target'>"
      ]
     },
     "execution_count": 34,
     "metadata": {},
     "output_type": "execute_result"
    },
    {
     "data": {
      "image/png": "[encoded data removed]",
      "text/plain": [
       "<Figure size 432x288 with 1 Axes>"
      ]
     },
     "metadata": {
      "needs_background": "light"
     },
     "output_type": "display_data"
    }
   ],
   "source": [
    "sns.barplot(data2[\"thal\"],y)"
   ]
  },
  {
   "cell_type": "markdown",
   "id": "1e2f2278-0467-43bd-a8cf-d42b991f038a",
   "metadata": {},
   "source": [
    "### Checking & Removing Outliers"
   ]
  },
  {
   "cell_type": "code",
   "execution_count": 35,
   "id": "4c7f67da-41c2-41ba-818a-f121acec2d95",
   "metadata": {},
   "outputs": [
    {
     "data": {
      "text/plain": [
       "<AxesSubplot:>"
      ]
     },
     "execution_count": 35,
     "metadata": {},
     "output_type": "execute_result"
    },
    {
     "data": {
      "image/png": "[encoded data removed]",
      "text/plain": [
       "<Figure size 1080x360 with 1 Axes>"
      ]
     },
     "metadata": {
      "needs_background": "light"
     },
     "output_type": "display_data"
    }
   ],
   "source": [
    "plt.figure(figsize=(15,5))\n",
    "sns.boxplot(data=data2,orient='h')"
   ]
  },
  {
   "cell_type": "code",
   "execution_count": 36,
   "id": "43abc5ea-a4b9-4ed8-8916-861bd294ca38",
   "metadata": {},
   "outputs": [
    {
     "data": {
      "text/html": [
       "<div>\n",
       "<style scoped>\n",
       "    .dataframe tbody tr th:only-of-type {\n",
       "        vertical-align: middle;\n",
       "    }\n",
       "\n",
       "    .dataframe tbody tr th {\n",
       "        vertical-align: top;\n",
       "    }\n",
       "\n",
       "    .dataframe thead th {\n",
       "        text-align: right;\n",
       "    }\n",
       "</style>\n",
       "<table border=\"1\" class=\"dataframe\">\n",
       "  <thead>\n",
       "    <tr style=\"text-align: right;\">\n",
       "      <th></th>\n",
       "      <th>age</th>\n",
       "      <th>sex</th>\n",
       "      <th>cp</th>\n",
       "      <th>trestbps</th>\n",
       "      <th>chol</th>\n",
       "      <th>fbs</th>\n",
       "      <th>restecg</th>\n",
       "      <th>thalach</th>\n",
       "      <th>exang</th>\n",
       "      <th>oldpeak</th>\n",
       "      <th>slope</th>\n",
       "      <th>ca</th>\n",
       "      <th>thal</th>\n",
       "      <th>target</th>\n",
       "    </tr>\n",
       "  </thead>\n",
       "  <tbody>\n",
       "    <tr>\n",
       "      <th>count</th>\n",
       "      <td>302.00000</td>\n",
       "      <td>302.000000</td>\n",
       "      <td>302.000000</td>\n",
       "      <td>302.000000</td>\n",
       "      <td>302.000000</td>\n",
       "      <td>302.000000</td>\n",
       "      <td>302.000000</td>\n",
       "      <td>302.000000</td>\n",
       "      <td>302.000000</td>\n",
       "      <td>302.000000</td>\n",
       "      <td>302.000000</td>\n",
       "      <td>302.000000</td>\n",
       "      <td>302.000000</td>\n",
       "      <td>302.000000</td>\n",
       "    </tr>\n",
       "    <tr>\n",
       "      <th>mean</th>\n",
       "      <td>54.42053</td>\n",
       "      <td>0.682119</td>\n",
       "      <td>0.963576</td>\n",
       "      <td>131.602649</td>\n",
       "      <td>246.500000</td>\n",
       "      <td>0.149007</td>\n",
       "      <td>0.526490</td>\n",
       "      <td>149.569536</td>\n",
       "      <td>0.327815</td>\n",
       "      <td>1.043046</td>\n",
       "      <td>1.397351</td>\n",
       "      <td>0.718543</td>\n",
       "      <td>2.314570</td>\n",
       "      <td>0.543046</td>\n",
       "    </tr>\n",
       "    <tr>\n",
       "      <th>std</th>\n",
       "      <td>9.04797</td>\n",
       "      <td>0.466426</td>\n",
       "      <td>1.032044</td>\n",
       "      <td>17.563394</td>\n",
       "      <td>51.753489</td>\n",
       "      <td>0.356686</td>\n",
       "      <td>0.526027</td>\n",
       "      <td>22.903527</td>\n",
       "      <td>0.470196</td>\n",
       "      <td>1.161452</td>\n",
       "      <td>0.616274</td>\n",
       "      <td>1.006748</td>\n",
       "      <td>0.613026</td>\n",
       "      <td>0.498970</td>\n",
       "    </tr>\n",
       "    <tr>\n",
       "      <th>min</th>\n",
       "      <td>29.00000</td>\n",
       "      <td>0.000000</td>\n",
       "      <td>0.000000</td>\n",
       "      <td>94.000000</td>\n",
       "      <td>126.000000</td>\n",
       "      <td>0.000000</td>\n",
       "      <td>0.000000</td>\n",
       "      <td>71.000000</td>\n",
       "      <td>0.000000</td>\n",
       "      <td>0.000000</td>\n",
       "      <td>0.000000</td>\n",
       "      <td>0.000000</td>\n",
       "      <td>0.000000</td>\n",
       "      <td>0.000000</td>\n",
       "    </tr>\n",
       "    <tr>\n",
       "      <th>25%</th>\n",
       "      <td>48.00000</td>\n",
       "      <td>0.000000</td>\n",
       "      <td>0.000000</td>\n",
       "      <td>120.000000</td>\n",
       "      <td>211.000000</td>\n",
       "      <td>0.000000</td>\n",
       "      <td>0.000000</td>\n",
       "      <td>133.250000</td>\n",
       "      <td>0.000000</td>\n",
       "      <td>0.000000</td>\n",
       "      <td>1.000000</td>\n",
       "      <td>0.000000</td>\n",
       "      <td>2.000000</td>\n",
       "      <td>0.000000</td>\n",
       "    </tr>\n",
       "    <tr>\n",
       "      <th>50%</th>\n",
       "      <td>55.50000</td>\n",
       "      <td>1.000000</td>\n",
       "      <td>1.000000</td>\n",
       "      <td>130.000000</td>\n",
       "      <td>240.500000</td>\n",
       "      <td>0.000000</td>\n",
       "      <td>1.000000</td>\n",
       "      <td>152.500000</td>\n",
       "      <td>0.000000</td>\n",
       "      <td>0.800000</td>\n",
       "      <td>1.000000</td>\n",
       "      <td>0.000000</td>\n",
       "      <td>2.000000</td>\n",
       "      <td>1.000000</td>\n",
       "    </tr>\n",
       "    <tr>\n",
       "      <th>75%</th>\n",
       "      <td>61.00000</td>\n",
       "      <td>1.000000</td>\n",
       "      <td>2.000000</td>\n",
       "      <td>140.000000</td>\n",
       "      <td>274.750000</td>\n",
       "      <td>0.000000</td>\n",
       "      <td>1.000000</td>\n",
       "      <td>166.000000</td>\n",
       "      <td>1.000000</td>\n",
       "      <td>1.600000</td>\n",
       "      <td>2.000000</td>\n",
       "      <td>1.000000</td>\n",
       "      <td>3.000000</td>\n",
       "      <td>1.000000</td>\n",
       "    </tr>\n",
       "    <tr>\n",
       "      <th>max</th>\n",
       "      <td>77.00000</td>\n",
       "      <td>1.000000</td>\n",
       "      <td>3.000000</td>\n",
       "      <td>200.000000</td>\n",
       "      <td>564.000000</td>\n",
       "      <td>1.000000</td>\n",
       "      <td>2.000000</td>\n",
       "      <td>202.000000</td>\n",
       "      <td>1.000000</td>\n",
       "      <td>6.200000</td>\n",
       "      <td>2.000000</td>\n",
       "      <td>4.000000</td>\n",
       "      <td>3.000000</td>\n",
       "      <td>1.000000</td>\n",
       "    </tr>\n",
       "  </tbody>\n",
       "</table>\n",
       "</div>"
      ],
      "text/plain": [
       "             age         sex          cp    trestbps        chol         fbs  \\\n",
       "count  302.00000  302.000000  302.000000  302.000000  302.000000  302.000000   \n",
       "mean    54.42053    0.682119    0.963576  131.602649  246.500000    0.149007   \n",
       "std      9.04797    0.466426    1.032044   17.563394   51.753489    0.356686   \n",
       "min     29.00000    0.000000    0.000000   94.000000  126.000000    0.000000   \n",
       "25%     48.00000    0.000000    0.000000  120.000000  211.000000    0.000000   \n",
       "50%     55.50000    1.000000    1.000000  130.000000  240.500000    0.000000   \n",
       "75%     61.00000    1.000000    2.000000  140.000000  274.750000    0.000000   \n",
       "max     77.00000    1.000000    3.000000  200.000000  564.000000    1.000000   \n",
       "\n",
       "          restecg     thalach       exang     oldpeak       slope          ca  \\\n",
       "count  302.000000  302.000000  302.000000  302.000000  302.000000  302.000000   \n",
       "mean     0.526490  149.569536    0.327815    1.043046    1.397351    0.718543   \n",
       "std      0.526027   22.903527    0.470196    1.161452    0.616274    1.006748   \n",
       "min      0.000000   71.000000    0.000000    0.000000    0.000000    0.000000   \n",
       "25%      0.000000  133.250000    0.000000    0.000000    1.000000    0.000000   \n",
       "50%      1.000000  152.500000    0.000000    0.800000    1.000000    0.000000   \n",
       "75%      1.000000  166.000000    1.000000    1.600000    2.000000    1.000000   \n",
       "max      2.000000  202.000000    1.000000    6.200000    2.000000    4.000000   \n",
       "\n",
       "             thal      target  \n",
       "count  302.000000  302.000000  \n",
       "mean     2.314570    0.543046  \n",
       "std      0.613026    0.498970  \n",
       "min      0.000000    0.000000  \n",
       "25%      2.000000    0.000000  \n",
       "50%      2.000000    1.000000  \n",
       "75%      3.000000    1.000000  \n",
       "max      3.000000    1.000000  "
      ]
     },
     "execution_count": 36,
     "metadata": {},
     "output_type": "execute_result"
    }
   ],
   "source": [
    "data2.describe()"
   ]
  },
  {
   "cell_type": "code",
   "execution_count": 37,
   "id": "7bf72875-3a8f-452e-9e6c-e665db2a5c67",
   "metadata": {},
   "outputs": [
    {
     "data": {
      "text/plain": [
       "<AxesSubplot:xlabel='trestbps'>"
      ]
     },
     "execution_count": 37,
     "metadata": {},
     "output_type": "execute_result"
    },
    {
     "data": {
      "image/png": "[encoded data removed]",
      "text/plain": [
       "<Figure size 432x288 with 1 Axes>"
      ]
     },
     "metadata": {
      "needs_background": "light"
     },
     "output_type": "display_data"
    }
   ],
   "source": [
    "q1 = data2.trestbps.quantile(0.25)\n",
    "q3 = data2.trestbps.quantile(0.75)\n",
    "IQR = q3 - q1\n",
    "lower_limit = q1 - 1.5 * IQR\n",
    "upper_limit = q3 + 1.5 * IQR\n",
    "data2[data2[\"trestbps\"] > upper_limit]\n",
    "data2=data2[data2[\"trestbps\"] < upper_limit]\n",
    "sns.boxplot(data2[\"trestbps\"])"
   ]
  },
  {
   "cell_type": "code",
   "execution_count": 38,
   "id": "50821391-57f6-445b-a634-97668ff4d35d",
   "metadata": {},
   "outputs": [
    {
     "data": {
      "text/plain": [
       "{'whiskers': [<matplotlib.lines.Line2D at 0x18ce8031730>,\n",
       "  <matplotlib.lines.Line2D at 0x18ce8031ca0>],\n",
       " 'caps': [<matplotlib.lines.Line2D at 0x18ce8031580>,\n",
       "  <matplotlib.lines.Line2D at 0x18ce8031df0>],\n",
       " 'boxes': [<matplotlib.lines.Line2D at 0x18ce80310d0>],\n",
       " 'medians': [<matplotlib.lines.Line2D at 0x18ce803ffd0>],\n",
       " 'fliers': [<matplotlib.lines.Line2D at 0x18ce803feb0>],\n",
       " 'means': []}"
      ]
     },
     "execution_count": 38,
     "metadata": {},
     "output_type": "execute_result"
    },
    {
     "data": {
      "image/png": "[encoded data removed]",
      "text/plain": [
       "<Figure size 432x288 with 1 Axes>"
      ]
     },
     "metadata": {
      "needs_background": "light"
     },
     "output_type": "display_data"
    }
   ],
   "source": [
    "q1 = data2.chol.quantile(0.25)\n",
    "q3 = data2.chol.quantile(0.75)\n",
    "IQR = q3 - q1\n",
    "lower_limit = q1 - 1.5 * IQR\n",
    "upper_limit = q3 + 1.5 * IQR\n",
    "k1=data2[data2[\"chol\"]>upper_limit]\n",
    "data2=data2[data2[\"chol\"]<upper_limit]\n",
    "plt.boxplot(data2[\"chol\"])"
   ]
  },
  {
   "cell_type": "code",
   "execution_count": 39,
   "id": "80acf2b8-ca79-454f-9d39-61fedf35ba27",
   "metadata": {},
   "outputs": [
    {
     "data": {
      "text/html": [
       "<div>\n",
       "<style scoped>\n",
       "    .dataframe tbody tr th:only-of-type {\n",
       "        vertical-align: middle;\n",
       "    }\n",
       "\n",
       "    .dataframe tbody tr th {\n",
       "        vertical-align: top;\n",
       "    }\n",
       "\n",
       "    .dataframe thead th {\n",
       "        text-align: right;\n",
       "    }\n",
       "</style>\n",
       "<table border=\"1\" class=\"dataframe\">\n",
       "  <thead>\n",
       "    <tr style=\"text-align: right;\">\n",
       "      <th></th>\n",
       "      <th>age</th>\n",
       "      <th>sex</th>\n",
       "      <th>cp</th>\n",
       "      <th>trestbps</th>\n",
       "      <th>chol</th>\n",
       "      <th>fbs</th>\n",
       "      <th>restecg</th>\n",
       "      <th>thalach</th>\n",
       "      <th>exang</th>\n",
       "      <th>oldpeak</th>\n",
       "      <th>slope</th>\n",
       "      <th>ca</th>\n",
       "      <th>thal</th>\n",
       "      <th>target</th>\n",
       "    </tr>\n",
       "  </thead>\n",
       "  <tbody>\n",
       "    <tr>\n",
       "      <th>count</th>\n",
       "      <td>284.000000</td>\n",
       "      <td>284.000000</td>\n",
       "      <td>284.000000</td>\n",
       "      <td>284.000000</td>\n",
       "      <td>284.000000</td>\n",
       "      <td>284.000000</td>\n",
       "      <td>284.000000</td>\n",
       "      <td>284.000000</td>\n",
       "      <td>284.000000</td>\n",
       "      <td>284.000000</td>\n",
       "      <td>284.000000</td>\n",
       "      <td>284.000000</td>\n",
       "      <td>284.000000</td>\n",
       "      <td>284.000000</td>\n",
       "    </tr>\n",
       "    <tr>\n",
       "      <th>mean</th>\n",
       "      <td>54.045775</td>\n",
       "      <td>0.700704</td>\n",
       "      <td>0.961268</td>\n",
       "      <td>129.404930</td>\n",
       "      <td>242.052817</td>\n",
       "      <td>0.137324</td>\n",
       "      <td>0.538732</td>\n",
       "      <td>149.394366</td>\n",
       "      <td>0.316901</td>\n",
       "      <td>0.999296</td>\n",
       "      <td>1.419014</td>\n",
       "      <td>0.718310</td>\n",
       "      <td>2.295775</td>\n",
       "      <td>0.552817</td>\n",
       "    </tr>\n",
       "    <tr>\n",
       "      <th>std</th>\n",
       "      <td>9.130078</td>\n",
       "      <td>0.458758</td>\n",
       "      <td>1.020244</td>\n",
       "      <td>14.769421</td>\n",
       "      <td>44.811904</td>\n",
       "      <td>0.344797</td>\n",
       "      <td>0.520172</td>\n",
       "      <td>23.293323</td>\n",
       "      <td>0.466090</td>\n",
       "      <td>1.124636</td>\n",
       "      <td>0.609516</td>\n",
       "      <td>1.007857</td>\n",
       "      <td>0.609567</td>\n",
       "      <td>0.498080</td>\n",
       "    </tr>\n",
       "    <tr>\n",
       "      <th>min</th>\n",
       "      <td>29.000000</td>\n",
       "      <td>0.000000</td>\n",
       "      <td>0.000000</td>\n",
       "      <td>94.000000</td>\n",
       "      <td>126.000000</td>\n",
       "      <td>0.000000</td>\n",
       "      <td>0.000000</td>\n",
       "      <td>71.000000</td>\n",
       "      <td>0.000000</td>\n",
       "      <td>0.000000</td>\n",
       "      <td>0.000000</td>\n",
       "      <td>0.000000</td>\n",
       "      <td>0.000000</td>\n",
       "      <td>0.000000</td>\n",
       "    </tr>\n",
       "    <tr>\n",
       "      <th>25%</th>\n",
       "      <td>47.000000</td>\n",
       "      <td>0.000000</td>\n",
       "      <td>0.000000</td>\n",
       "      <td>120.000000</td>\n",
       "      <td>209.750000</td>\n",
       "      <td>0.000000</td>\n",
       "      <td>0.000000</td>\n",
       "      <td>132.000000</td>\n",
       "      <td>0.000000</td>\n",
       "      <td>0.000000</td>\n",
       "      <td>1.000000</td>\n",
       "      <td>0.000000</td>\n",
       "      <td>2.000000</td>\n",
       "      <td>0.000000</td>\n",
       "    </tr>\n",
       "    <tr>\n",
       "      <th>50%</th>\n",
       "      <td>55.000000</td>\n",
       "      <td>1.000000</td>\n",
       "      <td>1.000000</td>\n",
       "      <td>130.000000</td>\n",
       "      <td>239.000000</td>\n",
       "      <td>0.000000</td>\n",
       "      <td>1.000000</td>\n",
       "      <td>152.000000</td>\n",
       "      <td>0.000000</td>\n",
       "      <td>0.650000</td>\n",
       "      <td>1.000000</td>\n",
       "      <td>0.000000</td>\n",
       "      <td>2.000000</td>\n",
       "      <td>1.000000</td>\n",
       "    </tr>\n",
       "    <tr>\n",
       "      <th>75%</th>\n",
       "      <td>60.250000</td>\n",
       "      <td>1.000000</td>\n",
       "      <td>2.000000</td>\n",
       "      <td>140.000000</td>\n",
       "      <td>270.250000</td>\n",
       "      <td>0.000000</td>\n",
       "      <td>1.000000</td>\n",
       "      <td>168.000000</td>\n",
       "      <td>1.000000</td>\n",
       "      <td>1.600000</td>\n",
       "      <td>2.000000</td>\n",
       "      <td>1.000000</td>\n",
       "      <td>3.000000</td>\n",
       "      <td>1.000000</td>\n",
       "    </tr>\n",
       "    <tr>\n",
       "      <th>max</th>\n",
       "      <td>77.000000</td>\n",
       "      <td>1.000000</td>\n",
       "      <td>3.000000</td>\n",
       "      <td>165.000000</td>\n",
       "      <td>360.000000</td>\n",
       "      <td>1.000000</td>\n",
       "      <td>2.000000</td>\n",
       "      <td>202.000000</td>\n",
       "      <td>1.000000</td>\n",
       "      <td>6.200000</td>\n",
       "      <td>2.000000</td>\n",
       "      <td>4.000000</td>\n",
       "      <td>3.000000</td>\n",
       "      <td>1.000000</td>\n",
       "    </tr>\n",
       "  </tbody>\n",
       "</table>\n",
       "</div>"
      ],
      "text/plain": [
       "              age         sex          cp    trestbps        chol         fbs  \\\n",
       "count  284.000000  284.000000  284.000000  284.000000  284.000000  284.000000   \n",
       "mean    54.045775    0.700704    0.961268  129.404930  242.052817    0.137324   \n",
       "std      9.130078    0.458758    1.020244   14.769421   44.811904    0.344797   \n",
       "min     29.000000    0.000000    0.000000   94.000000  126.000000    0.000000   \n",
       "25%     47.000000    0.000000    0.000000  120.000000  209.750000    0.000000   \n",
       "50%     55.000000    1.000000    1.000000  130.000000  239.000000    0.000000   \n",
       "75%     60.250000    1.000000    2.000000  140.000000  270.250000    0.000000   \n",
       "max     77.000000    1.000000    3.000000  165.000000  360.000000    1.000000   \n",
       "\n",
       "          restecg     thalach       exang     oldpeak       slope          ca  \\\n",
       "count  284.000000  284.000000  284.000000  284.000000  284.000000  284.000000   \n",
       "mean     0.538732  149.394366    0.316901    0.999296    1.419014    0.718310   \n",
       "std      0.520172   23.293323    0.466090    1.124636    0.609516    1.007857   \n",
       "min      0.000000   71.000000    0.000000    0.000000    0.000000    0.000000   \n",
       "25%      0.000000  132.000000    0.000000    0.000000    1.000000    0.000000   \n",
       "50%      1.000000  152.000000    0.000000    0.650000    1.000000    0.000000   \n",
       "75%      1.000000  168.000000    1.000000    1.600000    2.000000    1.000000   \n",
       "max      2.000000  202.000000    1.000000    6.200000    2.000000    4.000000   \n",
       "\n",
       "             thal      target  \n",
       "count  284.000000  284.000000  \n",
       "mean     2.295775    0.552817  \n",
       "std      0.609567    0.498080  \n",
       "min      0.000000    0.000000  \n",
       "25%      2.000000    0.000000  \n",
       "50%      2.000000    1.000000  \n",
       "75%      3.000000    1.000000  \n",
       "max      3.000000    1.000000  "
      ]
     },
     "execution_count": 39,
     "metadata": {},
     "output_type": "execute_result"
    }
   ],
   "source": [
    "data2.describe()"
   ]
  },
  {
   "cell_type": "code",
   "execution_count": 40,
   "id": "e37bc99d-f473-417b-bb90-2baf07adaeaa",
   "metadata": {},
   "outputs": [
    {
     "data": {
      "text/plain": [
       "<AxesSubplot:xlabel='thalach'>"
      ]
     },
     "execution_count": 40,
     "metadata": {},
     "output_type": "execute_result"
    },
    {
     "data": {
      "image/png": "[encoded data removed]",
      "text/plain": [
       "<Figure size 432x288 with 1 Axes>"
      ]
     },
     "metadata": {
      "needs_background": "light"
     },
     "output_type": "display_data"
    }
   ],
   "source": [
    "q1 = data2.thalach.quantile(0.25)\n",
    "q3 = data2.thalach.quantile(0.75)\n",
    "IQR = q3 - q1\n",
    "lower_limit = q1 - 1.5 * IQR\n",
    "data2[data2[\"thalach\"] < lower_limit]\n",
    "data2=data2[data2[\"thalach\"] > lower_limit]\n",
    "sns.boxplot(data2[\"thalach\"])"
   ]
  },
  {
   "cell_type": "code",
   "execution_count": 41,
   "id": "b5519959-20d2-4a25-9daa-da1ebba365a1",
   "metadata": {},
   "outputs": [
    {
     "data": {
      "text/plain": [
       "<AxesSubplot:>"
      ]
     },
     "execution_count": 41,
     "metadata": {},
     "output_type": "execute_result"
    },
    {
     "data": {
      "image/png": "[encoded data removed]",
      "text/plain": [
       "<Figure size 1080x360 with 1 Axes>"
      ]
     },
     "metadata": {
      "needs_background": "light"
     },
     "output_type": "display_data"
    }
   ],
   "source": [
    "plt.figure(figsize=(15,5))\n",
    "sns.boxplot(data=data2,orient='h')"
   ]
  },
  {
   "cell_type": "code",
   "execution_count": 42,
   "id": "c9ec7715-881c-4dc4-a874-f716828c8351",
   "metadata": {},
   "outputs": [
    {
     "data": {
      "text/html": [
       "<div>\n",
       "<style scoped>\n",
       "    .dataframe tbody tr th:only-of-type {\n",
       "        vertical-align: middle;\n",
       "    }\n",
       "\n",
       "    .dataframe tbody tr th {\n",
       "        vertical-align: top;\n",
       "    }\n",
       "\n",
       "    .dataframe thead th {\n",
       "        text-align: right;\n",
       "    }\n",
       "</style>\n",
       "<table border=\"1\" class=\"dataframe\">\n",
       "  <thead>\n",
       "    <tr style=\"text-align: right;\">\n",
       "      <th></th>\n",
       "      <th>age</th>\n",
       "      <th>sex</th>\n",
       "      <th>cp</th>\n",
       "      <th>trestbps</th>\n",
       "      <th>chol</th>\n",
       "      <th>fbs</th>\n",
       "      <th>restecg</th>\n",
       "      <th>thalach</th>\n",
       "      <th>exang</th>\n",
       "      <th>oldpeak</th>\n",
       "      <th>slope</th>\n",
       "      <th>ca</th>\n",
       "      <th>thal</th>\n",
       "      <th>target</th>\n",
       "    </tr>\n",
       "  </thead>\n",
       "  <tbody>\n",
       "    <tr>\n",
       "      <th>count</th>\n",
       "      <td>283.000000</td>\n",
       "      <td>283.000000</td>\n",
       "      <td>283.000000</td>\n",
       "      <td>283.000000</td>\n",
       "      <td>283.000000</td>\n",
       "      <td>283.000000</td>\n",
       "      <td>283.000000</td>\n",
       "      <td>283.000000</td>\n",
       "      <td>283.000000</td>\n",
       "      <td>283.000000</td>\n",
       "      <td>283.000000</td>\n",
       "      <td>283.000000</td>\n",
       "      <td>283.000000</td>\n",
       "      <td>283.000000</td>\n",
       "    </tr>\n",
       "    <tr>\n",
       "      <th>mean</th>\n",
       "      <td>54.000000</td>\n",
       "      <td>0.699647</td>\n",
       "      <td>0.964664</td>\n",
       "      <td>129.438163</td>\n",
       "      <td>242.070671</td>\n",
       "      <td>0.137809</td>\n",
       "      <td>0.537102</td>\n",
       "      <td>149.671378</td>\n",
       "      <td>0.318021</td>\n",
       "      <td>0.999293</td>\n",
       "      <td>1.420495</td>\n",
       "      <td>0.720848</td>\n",
       "      <td>2.296820</td>\n",
       "      <td>0.554770</td>\n",
       "    </tr>\n",
       "    <tr>\n",
       "      <th>std</th>\n",
       "      <td>9.113547</td>\n",
       "      <td>0.459224</td>\n",
       "      <td>1.020441</td>\n",
       "      <td>14.784944</td>\n",
       "      <td>44.890275</td>\n",
       "      <td>0.345310</td>\n",
       "      <td>0.520367</td>\n",
       "      <td>22.861163</td>\n",
       "      <td>0.466533</td>\n",
       "      <td>1.126628</td>\n",
       "      <td>0.610084</td>\n",
       "      <td>1.008733</td>\n",
       "      <td>0.610392</td>\n",
       "      <td>0.497872</td>\n",
       "    </tr>\n",
       "    <tr>\n",
       "      <th>min</th>\n",
       "      <td>29.000000</td>\n",
       "      <td>0.000000</td>\n",
       "      <td>0.000000</td>\n",
       "      <td>94.000000</td>\n",
       "      <td>126.000000</td>\n",
       "      <td>0.000000</td>\n",
       "      <td>0.000000</td>\n",
       "      <td>88.000000</td>\n",
       "      <td>0.000000</td>\n",
       "      <td>0.000000</td>\n",
       "      <td>0.000000</td>\n",
       "      <td>0.000000</td>\n",
       "      <td>0.000000</td>\n",
       "      <td>0.000000</td>\n",
       "    </tr>\n",
       "    <tr>\n",
       "      <th>25%</th>\n",
       "      <td>47.000000</td>\n",
       "      <td>0.000000</td>\n",
       "      <td>0.000000</td>\n",
       "      <td>120.000000</td>\n",
       "      <td>209.500000</td>\n",
       "      <td>0.000000</td>\n",
       "      <td>0.000000</td>\n",
       "      <td>132.000000</td>\n",
       "      <td>0.000000</td>\n",
       "      <td>0.000000</td>\n",
       "      <td>1.000000</td>\n",
       "      <td>0.000000</td>\n",
       "      <td>2.000000</td>\n",
       "      <td>0.000000</td>\n",
       "    </tr>\n",
       "    <tr>\n",
       "      <th>50%</th>\n",
       "      <td>55.000000</td>\n",
       "      <td>1.000000</td>\n",
       "      <td>1.000000</td>\n",
       "      <td>130.000000</td>\n",
       "      <td>239.000000</td>\n",
       "      <td>0.000000</td>\n",
       "      <td>1.000000</td>\n",
       "      <td>152.000000</td>\n",
       "      <td>0.000000</td>\n",
       "      <td>0.600000</td>\n",
       "      <td>1.000000</td>\n",
       "      <td>0.000000</td>\n",
       "      <td>2.000000</td>\n",
       "      <td>1.000000</td>\n",
       "    </tr>\n",
       "    <tr>\n",
       "      <th>75%</th>\n",
       "      <td>60.000000</td>\n",
       "      <td>1.000000</td>\n",
       "      <td>2.000000</td>\n",
       "      <td>140.000000</td>\n",
       "      <td>270.500000</td>\n",
       "      <td>0.000000</td>\n",
       "      <td>1.000000</td>\n",
       "      <td>168.000000</td>\n",
       "      <td>1.000000</td>\n",
       "      <td>1.600000</td>\n",
       "      <td>2.000000</td>\n",
       "      <td>1.000000</td>\n",
       "      <td>3.000000</td>\n",
       "      <td>1.000000</td>\n",
       "    </tr>\n",
       "    <tr>\n",
       "      <th>max</th>\n",
       "      <td>77.000000</td>\n",
       "      <td>1.000000</td>\n",
       "      <td>3.000000</td>\n",
       "      <td>165.000000</td>\n",
       "      <td>360.000000</td>\n",
       "      <td>1.000000</td>\n",
       "      <td>2.000000</td>\n",
       "      <td>202.000000</td>\n",
       "      <td>1.000000</td>\n",
       "      <td>6.200000</td>\n",
       "      <td>2.000000</td>\n",
       "      <td>4.000000</td>\n",
       "      <td>3.000000</td>\n",
       "      <td>1.000000</td>\n",
       "    </tr>\n",
       "  </tbody>\n",
       "</table>\n",
       "</div>"
      ],
      "text/plain": [
       "              age         sex          cp    trestbps        chol         fbs  \\\n",
       "count  283.000000  283.000000  283.000000  283.000000  283.000000  283.000000   \n",
       "mean    54.000000    0.699647    0.964664  129.438163  242.070671    0.137809   \n",
       "std      9.113547    0.459224    1.020441   14.784944   44.890275    0.345310   \n",
       "min     29.000000    0.000000    0.000000   94.000000  126.000000    0.000000   \n",
       "25%     47.000000    0.000000    0.000000  120.000000  209.500000    0.000000   \n",
       "50%     55.000000    1.000000    1.000000  130.000000  239.000000    0.000000   \n",
       "75%     60.000000    1.000000    2.000000  140.000000  270.500000    0.000000   \n",
       "max     77.000000    1.000000    3.000000  165.000000  360.000000    1.000000   \n",
       "\n",
       "          restecg     thalach       exang     oldpeak       slope          ca  \\\n",
       "count  283.000000  283.000000  283.000000  283.000000  283.000000  283.000000   \n",
       "mean     0.537102  149.671378    0.318021    0.999293    1.420495    0.720848   \n",
       "std      0.520367   22.861163    0.466533    1.126628    0.610084    1.008733   \n",
       "min      0.000000   88.000000    0.000000    0.000000    0.000000    0.000000   \n",
       "25%      0.000000  132.000000    0.000000    0.000000    1.000000    0.000000   \n",
       "50%      1.000000  152.000000    0.000000    0.600000    1.000000    0.000000   \n",
       "75%      1.000000  168.000000    1.000000    1.600000    2.000000    1.000000   \n",
       "max      2.000000  202.000000    1.000000    6.200000    2.000000    4.000000   \n",
       "\n",
       "             thal      target  \n",
       "count  283.000000  283.000000  \n",
       "mean     2.296820    0.554770  \n",
       "std      0.610392    0.497872  \n",
       "min      0.000000    0.000000  \n",
       "25%      2.000000    0.000000  \n",
       "50%      2.000000    1.000000  \n",
       "75%      3.000000    1.000000  \n",
       "max      3.000000    1.000000  "
      ]
     },
     "execution_count": 42,
     "metadata": {},
     "output_type": "execute_result"
    }
   ],
   "source": [
    "data2.describe()"
   ]
  },
  {
   "cell_type": "code",
   "execution_count": 43,
   "id": "5497c55c-f19b-4a04-b437-05e2d38b7231",
   "metadata": {},
   "outputs": [
    {
     "data": {
      "text/plain": [
       "(283, 14)"
      ]
     },
     "execution_count": 43,
     "metadata": {},
     "output_type": "execute_result"
    }
   ],
   "source": [
    "data2.shape"
   ]
  },
  {
   "cell_type": "code",
   "execution_count": 44,
   "id": "a081418a-db50-45f9-ad72-3e40dbfa5d87",
   "metadata": {},
   "outputs": [
    {
     "data": {
      "text/plain": [
       "<AxesSubplot:>"
      ]
     },
     "execution_count": 44,
     "metadata": {},
     "output_type": "execute_result"
    },
    {
     "data": {
      "image/png": "[encoded data removed]",
      "text/plain": [
       "<Figure size 1080x576 with 2 Axes>"
      ]
     },
     "metadata": {
      "needs_background": "light"
     },
     "output_type": "display_data"
    }
   ],
   "source": [
    "plt.figure(figsize=(15,8))\n",
    "sns.heatmap(data2.corr(),annot=True,cmap='coolwarm')"
   ]
  },
  {
   "cell_type": "markdown",
   "id": "8d60a8c2-030e-40b0-a8c6-c2724e2bff3f",
   "metadata": {},
   "source": [
    "### Data Splitting & Standardization"
   ]
  },
  {
   "cell_type": "code",
   "execution_count": 45,
   "id": "86ca46b8-609d-4eb5-8228-b02eed385bb6",
   "metadata": {},
   "outputs": [],
   "source": [
    "x = data2.drop('target',axis=1)\n",
    "y = data2['target']"
   ]
  },
  {
   "cell_type": "code",
   "execution_count": 46,
   "id": "b639d1ed-7f4f-468d-a17a-7917943dfef2",
   "metadata": {},
   "outputs": [],
   "source": [
    "x_train, x_test, y_train, y_test = train_test_split(x, y, test_size = 0.20, random_state=42)"
   ]
  },
  {
   "cell_type": "code",
   "execution_count": 47,
   "id": "bf2cd27d-7974-4aba-ba5b-b1b51742fbe0",
   "metadata": {},
   "outputs": [
    {
     "data": {
      "text/plain": [
       "(array([[ 0.33870449,  0.65603334, -0.96528661, ..., -0.66426877,\n",
       "          0.30960709, -2.08571429],\n",
       "        [-1.07883651,  0.65603334,  1.054665  , ...,  0.94997577,\n",
       "         -0.67590279, -0.47142857],\n",
       "        [-0.75171167,  0.65603334, -0.96528661, ..., -0.66426877,\n",
       "          0.30960709, -0.47142857],\n",
       "        ...,\n",
       "        [ 0.33870449,  0.65603334, -0.96528661, ..., -0.66426877,\n",
       "          0.30960709,  1.14285714],\n",
       "        [ 0.77487095,  0.65603334, -0.96528661, ..., -0.66426877,\n",
       "          0.30960709, -0.47142857],\n",
       "        [-0.20650359,  0.65603334,  1.054665  , ...,  0.94997577,\n",
       "          3.26613673, -0.47142857]]),\n",
       " array([[ 0.01157964,  0.65603334, -0.96528661, -0.49543023,  0.94573559,\n",
       "         -0.40613847, -1.03635106, -1.48573827,  1.47753125,  2.07856377,\n",
       "         -0.66426877,  1.29511697, -0.47142857],\n",
       "        [-1.40596136,  0.65603334,  1.054665  ,  0.05242167, -0.63278626,\n",
       "         -0.40613847, -1.03635106,  0.77714355, -0.67680464,  0.9664973 ,\n",
       "         -0.66426877, -0.67590279, -0.47142857],\n",
       "        [-1.40596136,  0.65603334,  1.054665  , -1.1802451 ,  0.15647467,\n",
       "         -0.40613847,  0.93184507,  1.25583009, -0.67680464, -0.88694682,\n",
       "          0.94997577, -0.67590279, -0.47142857],\n",
       "        [ 0.66582933,  0.65603334, -0.96528661,  0.05242167, -0.80817758,\n",
       "         -0.40613847, -1.03635106, -0.78946694,  1.47753125,  1.33718612,\n",
       "         -0.66426877,  1.29511697,  1.14285714],\n",
       "        [ 0.88391256, -1.52431277, -0.96528661, -0.35846725, -0.74240584,\n",
       "         -0.40613847,  0.93184507,  0.55955876, -0.67680464, -0.88694682,\n",
       "          0.94997577, -0.67590279, -0.47142857],\n",
       "        [ 1.21103741,  0.65603334, -0.96528661, -0.6323932 , -1.44397111,\n",
       "         -0.40613847,  0.93184507, -0.44133127, -0.67680464, -0.516258  ,\n",
       "          0.94997577, -0.67590279,  1.14285714],\n",
       "        [ 0.12062126,  0.65603334,  0.04468919,  0.05242167,  0.41956164,\n",
       "         -0.40613847,  0.93184507,  0.2114231 , -0.67680464, -0.88694682,\n",
       "          0.94997577, -0.67590279, -0.47142857],\n",
       "        [ 0.66582933,  0.65603334, -0.96528661, -0.28998577,  0.33186598,\n",
       "         -0.40613847, -1.03635106, -0.39781432,  1.47753125,  1.70787495,\n",
       "         -0.66426877,  0.30960709,  1.14285714],\n",
       "        [-1.40596136,  0.65603334,  0.04468919,  0.39482911, -0.87394933,\n",
       "         -0.40613847,  0.93184507, -0.78946694, -0.67680464, -0.88694682,\n",
       "         -0.66426877, -0.67590279, -2.08571429],\n",
       "        [ 0.12062126,  0.65603334, -0.96528661,  0.18938464,  2.41463788,\n",
       "         -0.40613847,  0.93184507, -0.78946694,  1.47753125,  0.22511965,\n",
       "         -0.66426877,  0.30960709,  1.14285714],\n",
       "        [ 0.33870449, -1.52431277, -0.96528661,  0.73723654, -0.04084057,\n",
       "         -0.40613847,  0.93184507, -1.18111956,  1.47753125, -0.70160241,\n",
       "         -0.66426877, -0.67590279,  1.14285714],\n",
       "        [ 1.32007902,  0.65603334, -0.96528661, -1.1802451 , -0.67663409,\n",
       "         -0.40613847, -1.03635106, -0.78946694,  1.47753125, -0.79427462,\n",
       "          0.94997577,  0.30960709, -0.47142857],\n",
       "        [ 0.01157964,  0.65603334,  1.054665  ,  1.42205142, -0.2381558 ,\n",
       "         -0.40613847, -1.03635106,  0.64659268, -0.67680464,  0.59580848,\n",
       "          0.94997577, -0.67590279,  1.14285714],\n",
       "        [ 1.64720387,  0.65603334,  1.054665  ,  0.73723654,  0.24417032,\n",
       "         -0.40613847, -1.03635106, -0.18022953, -0.67680464,  0.9664973 ,\n",
       "         -0.66426877,  2.28062685,  1.14285714],\n",
       "        [ 0.4477461 , -1.52431277, -0.96528661, -2.00202295,  0.11262684,\n",
       "         -0.40613847, -1.03635106, -1.22463652, -0.67680464,  0.03977524,\n",
       "         -0.66426877, -0.67590279, -0.47142857],\n",
       "        [ 0.55678772,  0.65603334, -0.96528661,  2.38079224, -1.46589502,\n",
       "          2.46221445, -1.03635106, -2.61717918, -0.67680464,  0.03977524,\n",
       "         -0.66426877,  1.29511697, -2.08571429],\n",
       "        [ 0.01157964,  0.65603334, -0.96528661,  0.73723654, -0.0846884 ,\n",
       "         -0.40613847,  0.93184507,  0.42900789, -0.67680464,  0.22511965,\n",
       "          0.94997577, -0.67590279, -0.47142857],\n",
       "        [-0.9697949 , -1.52431277,  0.04468919,  0.05242167, -0.19430797,\n",
       "         -0.40613847, -1.03635106,  1.08176226, -0.67680464, -0.33091359,\n",
       "         -0.66426877, -0.67590279, -0.47142857],\n",
       "        [-2.06021105,  0.65603334, -0.96528661, -0.22150428,  0.85803994,\n",
       "         -0.40613847, -1.03635106,  0.25494006,  1.47753125, -0.88694682,\n",
       "          0.94997577, -0.67590279,  1.14285714],\n",
       "        [-0.31554521,  0.65603334,  2.0646408 , -0.28998577, -0.65471018,\n",
       "         -0.40613847, -1.03635106, -1.09408565,  1.47753125,  0.41046406,\n",
       "          0.94997577,  0.30960709, -0.47142857],\n",
       "        [-2.16925266,  0.65603334,  2.0646408 , -0.76935618, -1.33435153,\n",
       "         -0.40613847, -1.03635106,  1.0382453 , -0.67680464, -0.88694682,\n",
       "          0.94997577, -0.67590279, -0.47142857],\n",
       "        [ 0.88391256, -1.52431277, -0.96528661,  2.10686629, -1.728982  ,\n",
       "         -0.40613847, -1.03635106, -0.22374648, -0.67680464,  4.85872996,\n",
       "         -2.2785133 ,  2.28062685,  1.14285714],\n",
       "        [-0.20650359,  0.65603334,  0.04468919,  0.32634762, -0.91779715,\n",
       "         -0.40613847,  0.93184507,  0.34197397, -0.67680464, -0.14556917,\n",
       "          0.94997577,  0.30960709, -0.47142857],\n",
       "        [ 0.55678772,  0.65603334,  2.0646408 ,  0.32634762, -0.85202541,\n",
       "         -0.40613847,  0.93184507,  0.5160418 , -0.67680464, -0.14556917,\n",
       "          0.94997577,  1.29511697, -0.47142857],\n",
       "        [ 0.55678772,  0.65603334,  1.054665  ,  1.42205142, -0.67663409,\n",
       "          2.46221445,  0.93184507,  0.29845701, -0.67680464,  0.59580848,\n",
       "          0.94997577, -0.67590279, -0.47142857],\n",
       "        [ 0.33870449,  0.65603334, -0.96528661, -1.31720808,  2.02000742,\n",
       "         -0.40613847,  0.93184507, -0.3107804 ,  1.47753125,  1.89321936,\n",
       "         -0.66426877,  0.30960709,  1.14285714],\n",
       "        [-0.9697949 , -1.52431277, -0.96528661,  0.60027357, -0.15046014,\n",
       "         -0.40613847, -1.03635106,  0.08087222,  1.47753125, -0.70160241,\n",
       "         -0.66426877, -0.67590279, -0.47142857],\n",
       "        [ 0.22966287,  0.65603334,  0.04468919, -0.6323932 , -0.15046014,\n",
       "         -0.40613847,  0.93184507,  1.21231313, -0.67680464, -0.14556917,\n",
       "          0.94997577, -0.67590279, -0.47142857],\n",
       "        [ 1.21103741,  0.65603334,  2.0646408 ,  0.60027357,  0.85803994,\n",
       "          2.46221445, -1.03635106,  1.0382453 , -0.67680464,  0.41046406,\n",
       "         -0.66426877,  0.30960709, -0.47142857],\n",
       "        [ 0.77487095,  0.65603334,  2.0646408 ,  0.32634762, -0.19430797,\n",
       "         -0.40613847,  0.93184507, -0.22374648, -0.67680464,  1.52253054,\n",
       "         -0.66426877,  1.29511697, -0.47142857],\n",
       "        [ 0.4477461 , -1.52431277, -0.96528661,  0.05242167, -1.00549281,\n",
       "         -0.40613847,  0.93184507, -0.8329839 , -0.67680464, -0.33091359,\n",
       "         -0.66426877, -0.67590279, -0.47142857],\n",
       "        [-0.31554521,  0.65603334,  1.054665  , -2.41291188, -0.34777537,\n",
       "         -0.40613847,  0.93184507,  0.16790614,  1.47753125, -0.88694682,\n",
       "          0.94997577,  0.30960709,  1.14285714],\n",
       "        [ 1.8652871 , -1.52431277,  1.054665  , -1.31720808,  0.48533339,\n",
       "          2.46221445, -1.03635106, -0.87650086, -0.67680464, -0.88694682,\n",
       "          0.94997577,  0.30960709, -0.47142857],\n",
       "        [ 0.4477461 , -1.52431277,  2.0646408 ,  1.42205142,  0.87996385,\n",
       "          2.46221445, -1.03635106,  0.5160418 , -0.67680464,  0.03977524,\n",
       "          0.94997577, -0.67590279, -0.47142857],\n",
       "        [-0.09746197,  0.65603334, -0.96528661, -0.42694874,  0.85803994,\n",
       "         -0.40613847,  0.93184507, -2.39959439,  1.47753125,  0.9664973 ,\n",
       "         -0.66426877,  1.29511697,  1.14285714],\n",
       "        [ 0.01157964, -1.52431277,  1.054665  , -1.31720808, -0.63278626,\n",
       "         -0.40613847,  0.93184507,  0.34197397, -0.67680464,  0.59580848,\n",
       "         -0.66426877, -0.67590279, -0.47142857],\n",
       "        [-0.64267005,  0.65603334,  1.054665  , -0.35846725,  0.26609424,\n",
       "          2.46221445,  0.93184507,  1.08176226, -0.67680464, -0.88694682,\n",
       "          0.94997577,  1.29511697, -0.47142857],\n",
       "        [-1.18787813, -1.52431277,  1.054665  , -0.49543023, -0.65471018,\n",
       "         -0.40613847,  0.93184507,  0.64659268, -0.67680464, -0.70160241,\n",
       "         -0.66426877, -0.67590279, -0.47142857],\n",
       "        [ 0.12062126, -1.52431277, -0.96528661, -0.08454131, -0.8301015 ,\n",
       "         -0.40613847,  2.90004119, -0.87650086,  1.47753125,  0.9664973 ,\n",
       "         -0.66426877,  0.30960709,  1.14285714],\n",
       "        [-1.18787813,  0.65603334, -0.96528661,  1.42205142,  0.09070292,\n",
       "         -0.40613847,  0.93184507,  0.90769443, -0.67680464,  0.50313627,\n",
       "          0.94997577, -0.67590279, -0.47142857],\n",
       "        [ 1.75624548,  0.65603334,  1.054665  ,  2.10686629,  0.57302904,\n",
       "         -0.40613847,  0.93184507, -1.6598061 ,  1.47753125,  1.80054716,\n",
       "         -0.66426877,  0.30960709,  1.14285714],\n",
       "        [ 0.99295418, -1.52431277,  1.054665  ,  0.39482911,  0.20032249,\n",
       "         -0.40613847, -1.03635106,  0.95121138, -0.67680464, -0.88694682,\n",
       "          0.94997577, -0.67590279, -0.47142857],\n",
       "        [ 0.77487095, -1.52431277, -0.96528661,  1.07964398,  1.4061378 ,\n",
       "         -0.40613847, -1.03635106, -0.18022953,  1.47753125,  0.03977524,\n",
       "         -0.66426877, -0.67590279,  1.14285714],\n",
       "        [ 0.4477461 ,  0.65603334, -0.96528661, -2.00202295, -0.19430797,\n",
       "         -0.40613847,  0.93184507,  0.25494006, -0.67680464, -0.79427462,\n",
       "          0.94997577,  0.30960709,  1.14285714],\n",
       "        [ 1.53816225,  0.65603334, -0.96528661,  1.01116249, -1.09318847,\n",
       "          2.46221445,  0.93184507, -0.39781432, -0.67680464,  2.26390819,\n",
       "         -0.66426877,  1.29511697,  1.14285714],\n",
       "        [-0.9697949 ,  0.65603334, -0.96528661,  0.87419952,  1.44998563,\n",
       "         -0.40613847, -1.03635106, -0.13671257,  1.47753125, -0.88694682,\n",
       "         -0.66426877,  2.28062685,  1.14285714],\n",
       "        [-0.31554521,  0.65603334,  1.054665  , -1.31720808, -1.48781894,\n",
       "         -0.40613847,  0.93184507, -1.18111956, -0.67680464, -0.33091359,\n",
       "          0.94997577, -0.67590279, -0.47142857],\n",
       "        [ 0.66582933, -1.52431277, -0.96528661,  1.42205142,  0.33186598,\n",
       "         -0.40613847, -1.03635106,  0.29845701, -0.67680464,  1.52253054,\n",
       "         -0.66426877,  1.29511697,  1.14285714],\n",
       "        [ 0.01157964,  0.65603334, -0.96528661, -1.31720808, -0.80817758,\n",
       "         -0.40613847, -1.03635106, -1.83387393,  1.47753125, -0.88694682,\n",
       "         -0.66426877,  0.30960709, -0.47142857],\n",
       "        [ 0.66582933,  0.65603334, -0.96528661,  0.05242167,  0.22224641,\n",
       "         -0.40613847,  0.93184507, -0.26726344,  1.47753125,  0.41046406,\n",
       "          0.94997577,  0.30960709,  1.14285714],\n",
       "        [-1.62404459, -1.52431277,  1.054665  ,  0.60027357, -0.50124278,\n",
       "         -0.40613847,  0.93184507,  0.08087222, -0.67680464, -0.88694682,\n",
       "         -0.66426877, -0.67590279, -0.47142857],\n",
       "        [-0.64267005,  0.65603334, -0.96528661, -0.49543023, -0.45739495,\n",
       "         -0.40613847, -1.03635106,  1.5604488 , -0.67680464, -0.88694682,\n",
       "          0.94997577, -0.67590279, -0.47142857],\n",
       "        [-0.09746197,  0.65603334, -0.96528661,  0.87419952, -0.36969929,\n",
       "         -0.40613847, -1.03635106, -1.70332306,  1.47753125, -0.88694682,\n",
       "          0.94997577, -0.67590279,  1.14285714],\n",
       "        [ 0.4477461 ,  0.65603334, -0.96528661, -1.04328213,  1.64730087,\n",
       "         -0.40613847,  2.90004119, -0.44133127, -0.67680464,  3.19063025,\n",
       "         -2.2785133 ,  2.28062685, -2.08571429],\n",
       "        [-1.18787813,  0.65603334,  1.054665  ,  0.05242167,  1.58152912,\n",
       "         -0.40613847,  0.93184507,  0.5160418 , -0.67680464,  0.87382509,\n",
       "          0.94997577,  0.30960709, -0.47142857],\n",
       "        [ 0.99295418, -1.52431277,  0.04468919,  0.73723654, -1.04934064,\n",
       "         -0.40613847,  0.93184507,  1.25583009, -0.67680464, -0.88694682,\n",
       "          0.94997577,  1.29511697, -0.47142857],\n",
       "        [-1.29691974,  0.65603334,  2.0646408 ,  1.28508844,  0.02493118,\n",
       "         -0.40613847, -1.03635106,  1.21231313, -0.67680464, -0.14556917,\n",
       "          0.94997577,  1.29511697, -0.47142857]]))"
      ]
     },
     "execution_count": 47,
     "metadata": {},
     "output_type": "execute_result"
    }
   ],
   "source": [
    "scaler = StandardScaler()\n",
    "x_train = scaler.fit_transform(x_train)\n",
    "x_test = scaler.transform(x_test)\n",
    "x_train, x_test"
   ]
  },
  {
   "cell_type": "markdown",
   "id": "99e62836-bcbc-4a56-a38b-2b54510d6181",
   "metadata": {},
   "source": [
    "### Logistic Regression"
   ]
  },
  {
   "cell_type": "code",
   "execution_count": 48,
   "id": "f2a85b8e-5fee-4f30-9158-bde6ad88882b",
   "metadata": {},
   "outputs": [
    {
     "data": {
      "text/plain": [
       "LogisticRegression()"
      ]
     },
     "execution_count": 48,
     "metadata": {},
     "output_type": "execute_result"
    }
   ],
   "source": [
    "lr = LogisticRegression()\n",
    "lr.fit(x_train, y_train)"
   ]
  },
  {
   "cell_type": "code",
   "execution_count": 49,
   "id": "beffdef5-0af4-46c2-9219-d959c63775d3",
   "metadata": {},
   "outputs": [
    {
     "data": {
      "text/html": [
       "<div>\n",
       "<style scoped>\n",
       "    .dataframe tbody tr th:only-of-type {\n",
       "        vertical-align: middle;\n",
       "    }\n",
       "\n",
       "    .dataframe tbody tr th {\n",
       "        vertical-align: top;\n",
       "    }\n",
       "\n",
       "    .dataframe thead th {\n",
       "        text-align: right;\n",
       "    }\n",
       "</style>\n",
       "<table border=\"1\" class=\"dataframe\">\n",
       "  <thead>\n",
       "    <tr style=\"text-align: right;\">\n",
       "      <th></th>\n",
       "      <th>Actual</th>\n",
       "      <th>Predicted</th>\n",
       "    </tr>\n",
       "  </thead>\n",
       "  <tbody>\n",
       "    <tr>\n",
       "      <th>0</th>\n",
       "      <td>0</td>\n",
       "      <td>0</td>\n",
       "    </tr>\n",
       "    <tr>\n",
       "      <th>1</th>\n",
       "      <td>1</td>\n",
       "      <td>1</td>\n",
       "    </tr>\n",
       "    <tr>\n",
       "      <th>2</th>\n",
       "      <td>1</td>\n",
       "      <td>1</td>\n",
       "    </tr>\n",
       "    <tr>\n",
       "      <th>3</th>\n",
       "      <td>0</td>\n",
       "      <td>0</td>\n",
       "    </tr>\n",
       "    <tr>\n",
       "      <th>4</th>\n",
       "      <td>1</td>\n",
       "      <td>1</td>\n",
       "    </tr>\n",
       "  </tbody>\n",
       "</table>\n",
       "</div>"
      ],
      "text/plain": [
       "   Actual  Predicted\n",
       "0       0          0\n",
       "1       1          1\n",
       "2       1          1\n",
       "3       0          0\n",
       "4       1          1"
      ]
     },
     "execution_count": 49,
     "metadata": {},
     "output_type": "execute_result"
    }
   ],
   "source": [
    "lr_pred = lr.predict(x_test)\n",
    "pd.DataFrame(np.c_[y_test,lr_pred],\n",
    "             columns=['Actual','Predicted']).head()"
   ]
  },
  {
   "cell_type": "code",
   "execution_count": 50,
   "id": "e04f483e-517d-41c4-abf1-4a7595038e2a",
   "metadata": {},
   "outputs": [
    {
     "name": "stdout",
     "output_type": "stream",
     "text": [
      " Test Accuracy score :  85.96 %\n",
      "Train Accuracy score :  84.07 %\n",
      "----------------------\n",
      "Classification Report\n",
      "----------------------\n",
      "              precision    recall  f1-score   support\n",
      "\n",
      "           0       0.84      0.84      0.84        25\n",
      "           1       0.88      0.88      0.88        32\n",
      "\n",
      "    accuracy                           0.86        57\n",
      "   macro avg       0.86      0.86      0.86        57\n",
      "weighted avg       0.86      0.86      0.86        57\n",
      "\n"
     ]
    },
    {
     "data": {
      "image/png": "[encoded data removed]",
      "text/plain": [
       "<Figure size 360x216 with 2 Axes>"
      ]
     },
     "metadata": {
      "needs_background": "light"
     },
     "output_type": "display_data"
    }
   ],
   "source": [
    "print(\" Test Accuracy score : \",round(lr.score(x_test,y_test)*100,2),\"%\")\n",
    "print(\"Train Accuracy score : \",round(lr.score(x_train,y_train)*100,2),\"%\")\n",
    "print(\"----------------------\")\n",
    "print(\"Classification Report\")\n",
    "print(\"----------------------\")\n",
    "con = confusion_matrix(lr_pred,y_test)\n",
    "plt.figure(figsize=(5,3))\n",
    "sns.heatmap(con, annot=True,cmap=\"YlGnBu\",fmt='g')\n",
    "print(classification_report(y_test,lr_pred))"
   ]
  },
  {
   "cell_type": "code",
   "execution_count": 51,
   "id": "601cd28f-a294-4941-87da-eb9f7d8894a7",
   "metadata": {},
   "outputs": [
    {
     "data": {
      "text/plain": [
       "0.8574999999999999"
      ]
     },
     "execution_count": 51,
     "metadata": {},
     "output_type": "execute_result"
    }
   ],
   "source": [
    "auc = roc_auc_score(y_test,lr_pred)\n",
    "auc"
   ]
  },
  {
   "cell_type": "code",
   "execution_count": 52,
   "id": "9c1e4b60-553d-4109-945d-e8dab00a3ffe",
   "metadata": {},
   "outputs": [
    {
     "data": {
      "image/png": "[encoded data removed]",
      "text/plain": [
       "<Figure size 576x360 with 1 Axes>"
      ]
     },
     "metadata": {
      "needs_background": "light"
     },
     "output_type": "display_data"
    }
   ],
   "source": [
    "fpr, tpr, thresholds = roc_curve(y_test,lr_pred)\n",
    "plt.figure(figsize=(8,5))\n",
    "plt.plot(fpr , tpr , color='red',label='ROC')\n",
    "plt.plot([0,1],[0,1],color = 'darkblue',linestyle='--',label='ROC curve(area = %0.2f)'% auc)\n",
    "plt.xlabel('False positive rate')\n",
    "plt.ylabel('True positive rate')\n",
    "plt.title('Receiver Operating Characterstics (ROC) curve')\n",
    "plt.legend()\n",
    "plt.show()"
   ]
  },
  {
   "cell_type": "markdown",
   "id": "e4f71645-416d-498b-ac09-de835a27e169",
   "metadata": {},
   "source": [
    "### Random Forest"
   ]
  },
  {
   "cell_type": "code",
   "execution_count": 63,
   "id": "60a88909-9e2a-47ca-a773-b4fb1349ceed",
   "metadata": {},
   "outputs": [
    {
     "data": {
      "text/plain": [
       "RandomForestClassifier(max_depth=4)"
      ]
     },
     "execution_count": 63,
     "metadata": {},
     "output_type": "execute_result"
    }
   ],
   "source": [
    "rfc = RandomForestClassifier(max_depth=4)\n",
    "rfc.fit(x_train, y_train)"
   ]
  },
  {
   "cell_type": "code",
   "execution_count": 64,
   "id": "20777036-7ee1-469c-bf74-9a9060349888",
   "metadata": {},
   "outputs": [
    {
     "data": {
      "text/html": [
       "<div>\n",
       "<style scoped>\n",
       "    .dataframe tbody tr th:only-of-type {\n",
       "        vertical-align: middle;\n",
       "    }\n",
       "\n",
       "    .dataframe tbody tr th {\n",
       "        vertical-align: top;\n",
       "    }\n",
       "\n",
       "    .dataframe thead th {\n",
       "        text-align: right;\n",
       "    }\n",
       "</style>\n",
       "<table border=\"1\" class=\"dataframe\">\n",
       "  <thead>\n",
       "    <tr style=\"text-align: right;\">\n",
       "      <th></th>\n",
       "      <th>Actual</th>\n",
       "      <th>Predicted</th>\n",
       "    </tr>\n",
       "  </thead>\n",
       "  <tbody>\n",
       "    <tr>\n",
       "      <th>0</th>\n",
       "      <td>0</td>\n",
       "      <td>0</td>\n",
       "    </tr>\n",
       "    <tr>\n",
       "      <th>1</th>\n",
       "      <td>1</td>\n",
       "      <td>1</td>\n",
       "    </tr>\n",
       "    <tr>\n",
       "      <th>2</th>\n",
       "      <td>1</td>\n",
       "      <td>1</td>\n",
       "    </tr>\n",
       "    <tr>\n",
       "      <th>3</th>\n",
       "      <td>0</td>\n",
       "      <td>0</td>\n",
       "    </tr>\n",
       "    <tr>\n",
       "      <th>4</th>\n",
       "      <td>1</td>\n",
       "      <td>1</td>\n",
       "    </tr>\n",
       "  </tbody>\n",
       "</table>\n",
       "</div>"
      ],
      "text/plain": [
       "   Actual  Predicted\n",
       "0       0          0\n",
       "1       1          1\n",
       "2       1          1\n",
       "3       0          0\n",
       "4       1          1"
      ]
     },
     "execution_count": 64,
     "metadata": {},
     "output_type": "execute_result"
    }
   ],
   "source": [
    "rfc_pred = rfc.predict(x_test)\n",
    "pd.DataFrame(np.c_[y_test,rfc_pred],columns=['Actual','Predicted']).head()"
   ]
  },
  {
   "cell_type": "code",
   "execution_count": 65,
   "id": "59f5a5da-529c-4b86-b705-4527668d8211",
   "metadata": {},
   "outputs": [
    {
     "name": "stdout",
     "output_type": "stream",
     "text": [
      " Test Accuracy score :  94.74 %\n",
      "Train Accuracy score :  90.71 %\n",
      "----------------------\n",
      "Classification Report\n",
      "----------------------\n",
      "              precision    recall  f1-score   support\n",
      "\n",
      "           0       0.92      0.96      0.94        25\n",
      "           1       0.97      0.94      0.95        32\n",
      "\n",
      "    accuracy                           0.95        57\n",
      "   macro avg       0.95      0.95      0.95        57\n",
      "weighted avg       0.95      0.95      0.95        57\n",
      "\n"
     ]
    },
    {
     "data": {
      "text/plain": [
       "<AxesSubplot:>"
      ]
     },
     "execution_count": 65,
     "metadata": {},
     "output_type": "execute_result"
    },
    {
     "data": {
      "image/png": "[encoded data removed]",
      "text/plain": [
       "<Figure size 360x216 with 2 Axes>"
      ]
     },
     "metadata": {
      "needs_background": "light"
     },
     "output_type": "display_data"
    }
   ],
   "source": [
    "print(\" Test Accuracy score : \",round(rfc.score(x_test,y_test)*100,2),\"%\")\n",
    "print(\"Train Accuracy score : \",round(rfc.score(x_train,y_train)*100,2),\"%\")\n",
    "clf_con = confusion_matrix(y_test,rfc_pred)\n",
    "print(\"----------------------\")\n",
    "print(\"Classification Report\")\n",
    "print(\"----------------------\")\n",
    "print(classification_report(y_test,rfc_pred))\n",
    "plt.figure(figsize=(5,3))\n",
    "sns.heatmap(clf_con, annot=True,cmap=\"YlGnBu\",fmt='g')"
   ]
  },
  {
   "cell_type": "code",
   "execution_count": 66,
   "id": "41c2c39e-bb23-4c14-8d91-7b88f21cb369",
   "metadata": {},
   "outputs": [
    {
     "data": {
      "text/plain": [
       "0.94875"
      ]
     },
     "execution_count": 66,
     "metadata": {},
     "output_type": "execute_result"
    }
   ],
   "source": [
    "auc = roc_auc_score(y_test,rfc_pred)\n",
    "auc"
   ]
  },
  {
   "cell_type": "code",
   "execution_count": 67,
   "id": "d6a9ebfd-7b51-444f-a2c9-6165efe57f11",
   "metadata": {},
   "outputs": [
    {
     "data": {
      "image/png": "[encoded data removed]",
      "text/plain": [
       "<Figure size 576x360 with 1 Axes>"
      ]
     },
     "metadata": {
      "needs_background": "light"
     },
     "output_type": "display_data"
    }
   ],
   "source": [
    "fpr, tpr, thresholds = roc_curve(y_test,rfc_pred)\n",
    "plt.figure(figsize=(8,5))\n",
    "plt.plot(fpr , tpr , color='red',label='ROC')\n",
    "plt.plot([0,1],[0,1],color = 'darkblue',linestyle='--',label='ROC curve(area = %0.2f)'% auc)\n",
    "plt.xlabel('False positive rate')\n",
    "plt.ylabel('True positive rate')\n",
    "plt.title('Receiver Operating Characterstics (ROC) curve')\n",
    "plt.legend()\n",
    "plt.show()"
   ]
  },
  {
   "cell_type": "markdown",
   "id": "fa72ab5b-98bc-414a-af29-111eacd3e233",
   "metadata": {},
   "source": [
    "### Model Comparison"
   ]
  },
  {
   "cell_type": "code",
   "execution_count": 68,
   "id": "59144169-a351-45d0-a338-b68a2d1c169b",
   "metadata": {},
   "outputs": [
    {
     "data": {
      "text/html": [
       "<div>\n",
       "<style scoped>\n",
       "    .dataframe tbody tr th:only-of-type {\n",
       "        vertical-align: middle;\n",
       "    }\n",
       "\n",
       "    .dataframe tbody tr th {\n",
       "        vertical-align: top;\n",
       "    }\n",
       "\n",
       "    .dataframe thead th {\n",
       "        text-align: right;\n",
       "    }\n",
       "</style>\n",
       "<table border=\"1\" class=\"dataframe\">\n",
       "  <thead>\n",
       "    <tr style=\"text-align: right;\">\n",
       "      <th></th>\n",
       "      <th>Models</th>\n",
       "      <th>Test Accuracy</th>\n",
       "      <th>Train Accuracy</th>\n",
       "    </tr>\n",
       "  </thead>\n",
       "  <tbody>\n",
       "    <tr>\n",
       "      <th>1</th>\n",
       "      <td>Random Forest</td>\n",
       "      <td>94.74</td>\n",
       "      <td>90.71</td>\n",
       "    </tr>\n",
       "    <tr>\n",
       "      <th>0</th>\n",
       "      <td>Logistic Regression</td>\n",
       "      <td>85.96</td>\n",
       "      <td>84.07</td>\n",
       "    </tr>\n",
       "  </tbody>\n",
       "</table>\n",
       "</div>"
      ],
      "text/plain": [
       "                Models  Test Accuracy  Train Accuracy\n",
       "1        Random Forest          94.74           90.71\n",
       "0  Logistic Regression          85.96           84.07"
      ]
     },
     "execution_count": 68,
     "metadata": {},
     "output_type": "execute_result"
    }
   ],
   "source": [
    "data = { 'Models' : ['Logistic Regression','Random Forest'],\n",
    "         'Test Accuracy' : [round(lr.score(x_test,y_test)*100,2), round(rfc.score(x_test,y_test)*100,2)],\n",
    "         'Train Accuracy': [round(lr.score(x_train,y_train)*100,2),round(rfc.score(x_train,y_train)*100,2)],\n",
    "       }\n",
    "\n",
    "df = pd.DataFrame(data)\n",
    "df.sort_values(by='Test Accuracy',ascending=False)"
   ]
  },
  {
   "cell_type": "code",
   "execution_count": 69,
   "id": "265e5c03-da7c-4120-b63c-cc795164ebd5",
   "metadata": {},
   "outputs": [
    {
     "data": {
      "image/png": "[encoded data removed]",
      "text/plain": [
       "<Figure size 360x432 with 1 Axes>"
      ]
     },
     "metadata": {
      "needs_background": "light"
     },
     "output_type": "display_data"
    }
   ],
   "source": [
    "plt.figure(figsize = (5,6))\n",
    "sns.barplot(x='Models', y='Test Accuracy',data=df)\n",
    "plt.show()"
   ]
  },
  {
   "cell_type": "markdown",
   "id": "5b318c18-048c-4703-b5bc-45dffd5bb316",
   "metadata": {},
   "source": [
    "### Data Testing"
   ]
  },
  {
   "cell_type": "code",
   "execution_count": 70,
   "id": "d25f53c5-fb3a-4f27-b46d-de1ffd823d1b",
   "metadata": {},
   "outputs": [
    {
     "data": {
      "text/html": [
       "<div>\n",
       "<style scoped>\n",
       "    .dataframe tbody tr th:only-of-type {\n",
       "        vertical-align: middle;\n",
       "    }\n",
       "\n",
       "    .dataframe tbody tr th {\n",
       "        vertical-align: top;\n",
       "    }\n",
       "\n",
       "    .dataframe thead th {\n",
       "        text-align: right;\n",
       "    }\n",
       "</style>\n",
       "<table border=\"1\" class=\"dataframe\">\n",
       "  <thead>\n",
       "    <tr style=\"text-align: right;\">\n",
       "      <th></th>\n",
       "      <th>age</th>\n",
       "      <th>sex</th>\n",
       "      <th>cp</th>\n",
       "      <th>trestbps</th>\n",
       "      <th>chol</th>\n",
       "      <th>fbs</th>\n",
       "      <th>restecg</th>\n",
       "      <th>thalach</th>\n",
       "      <th>exang</th>\n",
       "      <th>oldpeak</th>\n",
       "      <th>slope</th>\n",
       "      <th>ca</th>\n",
       "      <th>thal</th>\n",
       "      <th>target</th>\n",
       "    </tr>\n",
       "  </thead>\n",
       "  <tbody>\n",
       "    <tr>\n",
       "      <th>0</th>\n",
       "      <td>52</td>\n",
       "      <td>1</td>\n",
       "      <td>0</td>\n",
       "      <td>125</td>\n",
       "      <td>212</td>\n",
       "      <td>0</td>\n",
       "      <td>1</td>\n",
       "      <td>168</td>\n",
       "      <td>0</td>\n",
       "      <td>1.0</td>\n",
       "      <td>2</td>\n",
       "      <td>2</td>\n",
       "      <td>3</td>\n",
       "      <td>0</td>\n",
       "    </tr>\n",
       "    <tr>\n",
       "      <th>1</th>\n",
       "      <td>53</td>\n",
       "      <td>1</td>\n",
       "      <td>0</td>\n",
       "      <td>140</td>\n",
       "      <td>203</td>\n",
       "      <td>1</td>\n",
       "      <td>0</td>\n",
       "      <td>155</td>\n",
       "      <td>1</td>\n",
       "      <td>3.1</td>\n",
       "      <td>0</td>\n",
       "      <td>0</td>\n",
       "      <td>3</td>\n",
       "      <td>0</td>\n",
       "    </tr>\n",
       "    <tr>\n",
       "      <th>2</th>\n",
       "      <td>70</td>\n",
       "      <td>1</td>\n",
       "      <td>0</td>\n",
       "      <td>145</td>\n",
       "      <td>174</td>\n",
       "      <td>0</td>\n",
       "      <td>1</td>\n",
       "      <td>125</td>\n",
       "      <td>1</td>\n",
       "      <td>2.6</td>\n",
       "      <td>0</td>\n",
       "      <td>0</td>\n",
       "      <td>3</td>\n",
       "      <td>0</td>\n",
       "    </tr>\n",
       "    <tr>\n",
       "      <th>3</th>\n",
       "      <td>61</td>\n",
       "      <td>1</td>\n",
       "      <td>0</td>\n",
       "      <td>148</td>\n",
       "      <td>203</td>\n",
       "      <td>0</td>\n",
       "      <td>1</td>\n",
       "      <td>161</td>\n",
       "      <td>0</td>\n",
       "      <td>0.0</td>\n",
       "      <td>2</td>\n",
       "      <td>1</td>\n",
       "      <td>3</td>\n",
       "      <td>0</td>\n",
       "    </tr>\n",
       "    <tr>\n",
       "      <th>4</th>\n",
       "      <td>62</td>\n",
       "      <td>0</td>\n",
       "      <td>0</td>\n",
       "      <td>138</td>\n",
       "      <td>294</td>\n",
       "      <td>1</td>\n",
       "      <td>1</td>\n",
       "      <td>106</td>\n",
       "      <td>0</td>\n",
       "      <td>1.9</td>\n",
       "      <td>1</td>\n",
       "      <td>3</td>\n",
       "      <td>2</td>\n",
       "      <td>0</td>\n",
       "    </tr>\n",
       "    <tr>\n",
       "      <th>5</th>\n",
       "      <td>58</td>\n",
       "      <td>0</td>\n",
       "      <td>0</td>\n",
       "      <td>100</td>\n",
       "      <td>248</td>\n",
       "      <td>0</td>\n",
       "      <td>0</td>\n",
       "      <td>122</td>\n",
       "      <td>0</td>\n",
       "      <td>1.0</td>\n",
       "      <td>1</td>\n",
       "      <td>0</td>\n",
       "      <td>2</td>\n",
       "      <td>1</td>\n",
       "    </tr>\n",
       "    <tr>\n",
       "      <th>6</th>\n",
       "      <td>58</td>\n",
       "      <td>1</td>\n",
       "      <td>0</td>\n",
       "      <td>114</td>\n",
       "      <td>318</td>\n",
       "      <td>0</td>\n",
       "      <td>2</td>\n",
       "      <td>140</td>\n",
       "      <td>0</td>\n",
       "      <td>4.4</td>\n",
       "      <td>0</td>\n",
       "      <td>3</td>\n",
       "      <td>1</td>\n",
       "      <td>0</td>\n",
       "    </tr>\n",
       "    <tr>\n",
       "      <th>7</th>\n",
       "      <td>55</td>\n",
       "      <td>1</td>\n",
       "      <td>0</td>\n",
       "      <td>160</td>\n",
       "      <td>289</td>\n",
       "      <td>0</td>\n",
       "      <td>0</td>\n",
       "      <td>145</td>\n",
       "      <td>1</td>\n",
       "      <td>0.8</td>\n",
       "      <td>1</td>\n",
       "      <td>1</td>\n",
       "      <td>3</td>\n",
       "      <td>0</td>\n",
       "    </tr>\n",
       "    <tr>\n",
       "      <th>8</th>\n",
       "      <td>46</td>\n",
       "      <td>1</td>\n",
       "      <td>0</td>\n",
       "      <td>120</td>\n",
       "      <td>249</td>\n",
       "      <td>0</td>\n",
       "      <td>0</td>\n",
       "      <td>144</td>\n",
       "      <td>0</td>\n",
       "      <td>0.8</td>\n",
       "      <td>2</td>\n",
       "      <td>0</td>\n",
       "      <td>3</td>\n",
       "      <td>0</td>\n",
       "    </tr>\n",
       "    <tr>\n",
       "      <th>9</th>\n",
       "      <td>54</td>\n",
       "      <td>1</td>\n",
       "      <td>0</td>\n",
       "      <td>122</td>\n",
       "      <td>286</td>\n",
       "      <td>0</td>\n",
       "      <td>0</td>\n",
       "      <td>116</td>\n",
       "      <td>1</td>\n",
       "      <td>3.2</td>\n",
       "      <td>1</td>\n",
       "      <td>2</td>\n",
       "      <td>2</td>\n",
       "      <td>0</td>\n",
       "    </tr>\n",
       "  </tbody>\n",
       "</table>\n",
       "</div>"
      ],
      "text/plain": [
       "   age  sex  cp  trestbps  chol  fbs  restecg  thalach  exang  oldpeak  slope  \\\n",
       "0   52    1   0       125   212    0        1      168      0      1.0      2   \n",
       "1   53    1   0       140   203    1        0      155      1      3.1      0   \n",
       "2   70    1   0       145   174    0        1      125      1      2.6      0   \n",
       "3   61    1   0       148   203    0        1      161      0      0.0      2   \n",
       "4   62    0   0       138   294    1        1      106      0      1.9      1   \n",
       "5   58    0   0       100   248    0        0      122      0      1.0      1   \n",
       "6   58    1   0       114   318    0        2      140      0      4.4      0   \n",
       "7   55    1   0       160   289    0        0      145      1      0.8      1   \n",
       "8   46    1   0       120   249    0        0      144      0      0.8      2   \n",
       "9   54    1   0       122   286    0        0      116      1      3.2      1   \n",
       "\n",
       "   ca  thal  target  \n",
       "0   2     3       0  \n",
       "1   0     3       0  \n",
       "2   0     3       0  \n",
       "3   1     3       0  \n",
       "4   3     2       0  \n",
       "5   0     2       1  \n",
       "6   3     1       0  \n",
       "7   1     3       0  \n",
       "8   0     3       0  \n",
       "9   2     2       0  "
      ]
     },
     "execution_count": 70,
     "metadata": {},
     "output_type": "execute_result"
    }
   ],
   "source": [
    "data2.head(10)"
   ]
  },
  {
   "cell_type": "code",
   "execution_count": 71,
   "id": "cf3f8312-b23a-4d19-8bdc-6d9efead3086",
   "metadata": {},
   "outputs": [
    {
     "name": "stdout",
     "output_type": "stream",
     "text": [
      " [WARNING] HEART DISEASE DETECTED\n"
     ]
    }
   ],
   "source": [
    "sample1 = [50,0,1,120,244,0,1,162,0,1.1,2,0,2]\n",
    "if rfc.predict([sample1]) == 0:\n",
    "    print('[SAFE] HEART DISEASE NOT DETECTED')\n",
    "else:\n",
    "    print(' [WARNING] HEART DISEASE DETECTED')"
   ]
  },
  {
   "cell_type": "code",
   "execution_count": 72,
   "id": "f5ca2cb3-a1b1-4e44-a938-17ec55b45cae",
   "metadata": {},
   "outputs": [
    {
     "name": "stdout",
     "output_type": "stream",
     "text": [
      "[SAFE] HEART DISEASE NOT DETECTED\n"
     ]
    }
   ],
   "source": [
    "sample2 = [30,1,1,120,274,0,1,134,0,3.2,2,0,3]\n",
    "if lr.predict([sample2]) == 0:\n",
    "    print('[SAFE] HEART DISEASE NOT DETECTED')\n",
    "else:\n",
    "    print(' [WARNING] HEART DISEASE DETECTED')"
   ]
  }
 ],
 "metadata": {
  "kernelspec": {
   "display_name": "Python 3 (ipykernel)",
   "language": "python",
   "name": "python3"
  },
  "language_info": {
   "codemirror_mode": {
    "name": "ipython",
    "version": 3
   },
   "file_extension": ".py",
   "mimetype": "text/x-python",
   "name": "python",
   "nbconvert_exporter": "python",
   "pygments_lexer": "ipython3",
   "version": "3.9.12"
  }
 },
 "nbformat": 4,
 "nbformat_minor": 5
}
